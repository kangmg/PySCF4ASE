{
  "nbformat": 4,
  "nbformat_minor": 0,
  "metadata": {
    "colab": {
      "provenance": [],
      "gpuType": "T4",
      "authorship_tag": "ABX9TyN7xdlr5YZ/cnL3ljorbakg",
      "include_colab_link": true
    },
    "kernelspec": {
      "name": "python3",
      "display_name": "Python 3"
    },
    "language_info": {
      "name": "python"
    },
    "accelerator": "GPU"
  },
  "cells": [
    {
      "cell_type": "markdown",
      "metadata": {
        "id": "view-in-github",
        "colab_type": "text"
      },
      "source": [
        "<a href=\"https://colab.research.google.com/github/kangmg/PySCF4ASE/blob/main/test_notebooks/PySCF_ase_wfn.ipynb\" target=\"_parent\"><img src=\"https://colab.research.google.com/assets/colab-badge.svg\" alt=\"Open In Colab\"/></a>"
      ]
    },
    {
      "cell_type": "code",
      "execution_count": 1,
      "metadata": {
        "colab": {
          "base_uri": "https://localhost:8080/"
        },
        "id": "LsM7fnvjb6Yx",
        "outputId": "9fbfac13-1339-40f3-ea26-cc243ea8857e"
      },
      "outputs": [
        {
          "output_type": "stream",
          "name": "stdout",
          "text": [
            "Writing requirements.txt\n"
          ]
        }
      ],
      "source": [
        "%%writefile requirements.txt\n",
        "ase\n",
        "pyscf\n",
        "gpu4pyscf-cuda12x # 11 or 12 버전 확인 필요\n",
        "cutensor-cu12 # 11 or 12 버전 확인 필요\n",
        "torch"
      ]
    },
    {
      "cell_type": "code",
      "source": [
        "%pip install -q -r requirements.txt"
      ],
      "metadata": {
        "colab": {
          "base_uri": "https://localhost:8080/"
        },
        "id": "b5iWvcVXtnRj",
        "outputId": "c2777bda-325e-42c2-85f5-b873560d649e"
      },
      "execution_count": 2,
      "outputs": [
        {
          "output_type": "stream",
          "name": "stdout",
          "text": [
            "\u001b[?25l     \u001b[90m━━━━━━━━━━━━━━━━━━━━━━━━━━━━━━━━━━━━━━━━\u001b[0m \u001b[32m0.0/385.0 kB\u001b[0m \u001b[31m?\u001b[0m eta \u001b[36m-:--:--\u001b[0m\r\u001b[2K     \u001b[91m━━━━━━━━━━━━━━━━━━━━━━━━━━━━━━━━━━━━━━━\u001b[0m\u001b[90m╺\u001b[0m \u001b[32m378.9/385.0 kB\u001b[0m \u001b[31m14.8 MB/s\u001b[0m eta \u001b[36m0:00:01\u001b[0m\r\u001b[2K     \u001b[90m━━━━━━━━━━━━━━━━━━━━━━━━━━━━━━━━━━━━━━━━\u001b[0m \u001b[32m385.0/385.0 kB\u001b[0m \u001b[31m9.7 MB/s\u001b[0m eta \u001b[36m0:00:00\u001b[0m\n",
            "\u001b[?25h  Preparing metadata (setup.py) ... \u001b[?25l\u001b[?25hdone\n",
            "\u001b[2K   \u001b[90m━━━━━━━━━━━━━━━━━━━━━━━━━━━━━━━━━━━━━━━━\u001b[0m \u001b[32m2.9/2.9 MB\u001b[0m \u001b[31m72.1 MB/s\u001b[0m eta \u001b[36m0:00:00\u001b[0m\n",
            "\u001b[2K   \u001b[90m━━━━━━━━━━━━━━━━━━━━━━━━━━━━━━━━━━━━━━━━\u001b[0m \u001b[32m48.6/48.6 MB\u001b[0m \u001b[31m18.8 MB/s\u001b[0m eta \u001b[36m0:00:00\u001b[0m\n",
            "\u001b[2K   \u001b[90m━━━━━━━━━━━━━━━━━━━━━━━━━━━━━━━━━━━━━━━━\u001b[0m \u001b[32m124.5/124.5 MB\u001b[0m \u001b[31m7.8 MB/s\u001b[0m eta \u001b[36m0:00:00\u001b[0m\n",
            "\u001b[2K   \u001b[90m━━━━━━━━━━━━━━━━━━━━━━━━━━━━━━━━━━━━━━━━\u001b[0m \u001b[32m156.9/156.9 MB\u001b[0m \u001b[31m6.5 MB/s\u001b[0m eta \u001b[36m0:00:00\u001b[0m\n",
            "\u001b[2K   \u001b[90m━━━━━━━━━━━━━━━━━━━━━━━━━━━━━━━━━━━━━━━━\u001b[0m \u001b[32m14.4/14.4 MB\u001b[0m \u001b[31m79.1 MB/s\u001b[0m eta \u001b[36m0:00:00\u001b[0m\n",
            "\u001b[2K   \u001b[90m━━━━━━━━━━━━━━━━━━━━━━━━━━━━━━━━━━━━━━━━\u001b[0m \u001b[32m165.3/165.3 MB\u001b[0m \u001b[31m7.0 MB/s\u001b[0m eta \u001b[36m0:00:00\u001b[0m\n",
            "\u001b[2K   \u001b[90m━━━━━━━━━━━━━━━━━━━━━━━━━━━━━━━━━━━━━━━━\u001b[0m \u001b[32m12.1/12.1 MB\u001b[0m \u001b[31m23.0 MB/s\u001b[0m eta \u001b[36m0:00:00\u001b[0m\n",
            "\u001b[2K   \u001b[90m━━━━━━━━━━━━━━━━━━━━━━━━━━━━━━━━━━━━━━━━\u001b[0m \u001b[32m21.3/21.3 MB\u001b[0m \u001b[31m23.5 MB/s\u001b[0m eta \u001b[36m0:00:00\u001b[0m\n",
            "\u001b[?25h  Building wheel for geometric (setup.py) ... \u001b[?25l\u001b[?25hdone\n"
          ]
        }
      ]
    },
    {
      "cell_type": "code",
      "source": [
        "#@title pyscf calculator : wfn method / mp2, ccsd\n",
        "\n",
        "\n",
        "'''\n",
        "===================================================\n",
        "TODO\n",
        "---------------------------------------------------\n",
        "\n",
        "[ ] default 값 세팅하기\n",
        "[ ] system_changes 의미\n",
        "[ ] init에서 **kwargs 말고 명시적으로 추가\n",
        "[ ] dm21도 사용 가능하게 하기 !! 가능하다면 !!\n",
        "[ ] 데코레이터 역할 알아보고 추가하기\n",
        "[ ] geometric pyscf랑 성능 벤치마크 해보기\n",
        "[ ] free energy를 넣는 이유? vib 때매 그러나.. 이외에 ase에서 vib 결과 보는거 더 공부해보기\n",
        "[ ] warning msg 해결\n",
        "# /usr/local/lib/python3.10/dist-packages/pyscf/gto/mole.py:1284: UserWarning: Function mol.dumps drops attribute ctxlock because it is not JSON-serializable warnings.warn(msg)\n",
        "[ ] 버려지는 값들도 접근 가능하게 추가\n",
        "# pyscf.dft.RKS가 반환하는 다른 값들\n",
        "#     mo_energy :\n",
        "#         Orbital energies\n",
        "#     mo_occ\n",
        "#         Orbital occupancy\n",
        "#     mo_coeff\n",
        "#         Orbital coefficients\n",
        "===================================================\n",
        "\n",
        "\n",
        "\n",
        "[Units]\n",
        "=======  ===========  =============\n",
        "Program  Quantities   Unit\n",
        "-------  -----------  -------------\n",
        "PySCF    Energy       Ha\n",
        "PySCF    Force        Ha/Bohr\n",
        "ASE      Energy       eV\n",
        "ASE      Force        eV/Ang\n",
        "=======  ===========  =============\n",
        "'''\n",
        "\n",
        "import numpy as np\n",
        "from ase.calculators.calculator import Calculator, all_changes\n",
        "from ase.units import Ha, Bohr\n",
        "import torch\n",
        "#import pyscf\n",
        "#import gpu4pyscf\n",
        "\n",
        "class PySCFCalculator(Calculator):\n",
        "    '''\n",
        "    Description\n",
        "    ===========\n",
        "    PySCF ASE Calculator for post-HF( MP2, CCSD(T) ) caculations\n",
        "    '''\n",
        "\n",
        "    '''\n",
        "    ===============\n",
        "    Units\n",
        "    ---------------\n",
        "    Energy  eV\n",
        "    ===============\n",
        "    '''\n",
        "\n",
        "\n",
        "    implemented_properties = ['energy']\n",
        "\n",
        "    default_parameters = {\n",
        "        'charge': 0, # system charge\n",
        "        'spin': 0, # (= nelec alpha-beta = 2S)\n",
        "        'method': 'mp2', # mp2, ccsd\n",
        "        'hf': 'rhf', # uhf or rhf\n",
        "        'symmetry': False, # point group symmetry : e.g. Cs or C2v Ref. https://github.com/pyscf/pyscf/blob/master/examples/gto/13-symmetry.py\n",
        "        'basis': 'def2-tzvp', # basis set\n",
        "        'density_fit': True, # resolution of identity approximation\n",
        "        'auxbasis': 'auto', # basis for density_fit : e.g. 'cc-pvdz-jkfit' or 'auto'(pyscf sets automatically)\n",
        "        'device': 'auto', # gpu, cpu\n",
        "        'max_cycle': 50, # max number of iterations\n",
        "        'conv_tol': 1e-9, # converge threshold\n",
        "        'verbose' : 4, # output log level\n",
        "        'max_memory': 150000, # MB unit\n",
        "        'chkfile': None, # chkpoint file contains MOs, orbital energies etc. : (str) e.g. './checkpoint/pyscf.chk'\n",
        "        'output': None, # log file : (str) e.g. './output/pyscf_output.log'\n",
        "        # TODO : conv_tol_grad, init_guess\n",
        "    }\n",
        "\n",
        "    def _set_device(self):\n",
        "        # set device\n",
        "        if self.parameters.device == 'auto':\n",
        "            self.parameters.device = 'gpu' if torch.cuda.is_available() else 'cpu'\n",
        "\n",
        "        if self.parameters.device not in [\"gpu\", \"cpu\"]:\n",
        "            raise ValueError(f\"Invalid device: {self.parameters.device}, 'gpu' or 'cpu' supported.\")\n",
        "\n",
        "    def _set_post_HF_method(self):\n",
        "        \"\"\"set post-HF method\n",
        "        \"\"\"\n",
        "        # cpu --> pyscf\n",
        "        if self.parameters.device == 'cpu':\n",
        "            import pyscf\n",
        "            self.scf = pyscf.scf\n",
        "            # mp2\n",
        "            if self.parameters.method == 'mp2':\n",
        "                self.post_hf = pyscf.mp.MP2\n",
        "            # ccsd\n",
        "            elif self.parameters.method == 'ccsd':\n",
        "                self.post_hf = pyscf.cc.CCSD\n",
        "\n",
        "        # gpu --> gpu4pyscf\n",
        "        elif self.parameters.device == 'gpu':\n",
        "            import gpu4pyscf\n",
        "            self.scf = gpu4pyscf.scf\n",
        "            # with density_fit\n",
        "            if self.parameters.density_fit:\n",
        "                # mp2 with RI approx.\n",
        "                if self.parameters.method == 'mp2':\n",
        "                    from gpu4pyscf.mp.dfmp2 import DFMP2\n",
        "                    self.post_hf = DFMP2\n",
        "                # CCSD with RI approx. : not yet implemented\n",
        "                elif self.parameters.method == 'ccsd':\n",
        "                    raise NotImplementedError(\"gpu4pyscf.cc.ccsd_incore.CCSD does not support density_fit yet.\")\n",
        "            # without density_fit\n",
        "            elif not self.parameters.density_fit:\n",
        "                if self.parameters.method == 'mp2':\n",
        "                    from gpu4pyscf.mp.mp2 import MP2\n",
        "                    self.post_hf = MP2\n",
        "                elif self.parameters.method == 'ccsd':\n",
        "                    from gpu4pyscf.cc.ccsd_incore import CCSD\n",
        "                    self.post_hf = CCSD\n",
        "\n",
        "\n",
        "    def __init__(self, restart=None, label='PySCF', **kwargs):\n",
        "        super().__init__(restart=restart, label=label, **kwargs)\n",
        "        self.mol = None\n",
        "        self.mf = None\n",
        "\n",
        "    def calculate(self, atoms=None, properties=['energy'], system_changes=all_changes):\n",
        "        super().calculate(atoms, properties, system_changes)\n",
        "\n",
        "        self._set_device()\n",
        "\n",
        "        if self.atoms is None:\n",
        "            raise ValueError(\"atoms object is not set.\")\n",
        "\n",
        "        if system_changes:\n",
        "            self.results.clear()\n",
        "            self.mol = None\n",
        "            self.mf = None\n",
        "\n",
        "        if self.mol is None:\n",
        "            self._generate_molecule()\n",
        "\n",
        "        if self.mf is None:\n",
        "            self._run_post_HF()\n",
        "\n",
        "        if 'energy' in properties and 'energy' not in self.results:\n",
        "            # pyscf energy unit : Hatree\n",
        "            # ase energy unit : eV\n",
        "            self.results['energy'] = (self.e_hf + self.e_corr) * Ha\n",
        "\n",
        "    def _generate_molecule(self):\n",
        "        positions = self.atoms.get_positions()\n",
        "        symbols = self.atoms.get_chemical_symbols()\n",
        "        atom_str = \"; \".join([f\"{s} {p[0]} {p[1]} {p[2]}\" for s, p in zip(symbols, positions)])\n",
        "        self.mol = pyscf.M(atom=atom_str,\n",
        "                         basis=self.parameters.basis,\n",
        "                         charge=self.parameters.charge,\n",
        "                         spin=self.parameters.spin,\n",
        "                         symmetry=self.parameters.symmetry,\n",
        "                         verbose = self.parameters.verbose,\n",
        "                         max_memory=self.parameters.max_memory,\n",
        "                         output=self.parameters.output,\n",
        "                         unit='Angstrom')\n",
        "    def _hf(self, mol):\n",
        "        if self.parameters.hf == 'rhf':\n",
        "            return self.scf.RHF(mol)\n",
        "        elif self.parameters.hf == 'uhf':\n",
        "            return self.scf.UHF(mol)\n",
        "\n",
        "    def _run_post_HF(self):\n",
        "\n",
        "        # post HF 설정 : MP2, CCSD  --> self.post_hf\n",
        "        self._set_post_HF_method()\n",
        "\n",
        "        self.mf = self._hf(self.mol)\n",
        "        self.mf.max_cycle = self.parameters.max_cycle\n",
        "        self.mf.conv_tol = self.parameters.conv_tol\n",
        "\n",
        "        # checkpoint file : default is /tmp\n",
        "        if self.parameters.chkfile:\n",
        "            self.mf.chkfile = self.parameters.chkfile\n",
        "\n",
        "        # density_fit ( or resolution of identity (RI) approximation)\n",
        "        if self.parameters.density_fit:\n",
        "            if self.parameters.auxbasis == 'auto':\n",
        "                self.mf.density_fit()\n",
        "            elif self.parameters.auxbasis != 'auto':\n",
        "                self.mf.density_fit(auxbasis=self.parameters.auxbasis)\n",
        "\n",
        "        # Hartree-Fock calculation\n",
        "        self.e_hf = self.mf.kernel()\n",
        "\n",
        "        # post-HF correlaction\n",
        "        self.e_corr = self.post_hf(self.mf).kernel()[0]"
      ],
      "metadata": {
        "cellView": "form",
        "id": "MoZ4gaAVZvqO"
      },
      "execution_count": 16,
      "outputs": []
    },
    {
      "cell_type": "code",
      "source": [
        "# from ase import Atoms\n",
        "\n",
        "# # 물 분자 정의\n",
        "# mol = Atoms('H2O', positions=[(0.0, 0.0, 0.0),\n",
        "#                               (0.0, 0.0, 0.96),\n",
        "#                               (0.0, 0.76, -0.24)])"
      ],
      "metadata": {
        "id": "QBr18tx-4Egy"
      },
      "execution_count": 13,
      "outputs": []
    },
    {
      "cell_type": "code",
      "source": [
        "%%writefile ethane.xyz\n",
        "8\n",
        "Ethane\n",
        "  H      1.1851     -0.0039      0.9875\n",
        "  C      0.7516     -0.0225     -0.0209\n",
        "  H      1.1669      0.8330     -0.5693\n",
        "  H      1.1155     -0.9329     -0.5145\n",
        "  C     -0.7516      0.0225      0.0209\n",
        "  H     -1.1669     -0.8334      0.5687\n",
        "  H     -1.1157      0.9326      0.5151\n",
        "  H     -1.1850      0.0044     -0.9875"
      ],
      "metadata": {
        "colab": {
          "base_uri": "https://localhost:8080/"
        },
        "id": "EyPrYE2G9Igu",
        "outputId": "f385812c-de22-43c7-faa6-cbed31c2c3cc"
      },
      "execution_count": 25,
      "outputs": [
        {
          "output_type": "stream",
          "name": "stdout",
          "text": [
            "Writing ethane.xyz\n"
          ]
        }
      ]
    },
    {
      "cell_type": "code",
      "source": [
        "from ase.io import read\n",
        "\n",
        "mol = read('ethane.xyz', format='xyz')"
      ],
      "metadata": {
        "id": "tqIQGDmW9Vxl"
      },
      "execution_count": 26,
      "outputs": []
    },
    {
      "cell_type": "code",
      "source": [
        "# default parameters\n",
        "PySCFCalculator().parameters"
      ],
      "metadata": {
        "colab": {
          "base_uri": "https://localhost:8080/"
        },
        "id": "B0vfl9rZ6nZW",
        "outputId": "caa05d01-4484-4a19-8ed8-fe2880dee473"
      },
      "execution_count": 14,
      "outputs": [
        {
          "output_type": "execute_result",
          "data": {
            "text/plain": [
              "{'charge': 0,\n",
              " 'spin': 0,\n",
              " 'method': 'mp2',\n",
              " 'hf': 'rhf',\n",
              " 'symmetry': False,\n",
              " 'basis': 'def2-tzvp',\n",
              " 'density_fit': True,\n",
              " 'auxbasis': 'auto',\n",
              " 'device': 'auto',\n",
              " 'max_cycle': 50,\n",
              " 'conv_tol': 1e-09,\n",
              " 'verbose': 4,\n",
              " 'max_memory': 150000,\n",
              " 'chkfile': None,\n",
              " 'output': None}"
            ]
          },
          "metadata": {},
          "execution_count": 14
        }
      ]
    },
    {
      "cell_type": "code",
      "source": [
        "%%time\n",
        "\n",
        "# mp2 / df\n",
        "calc = PySCFCalculator()\n",
        "calc.parameters.verbose = 0\n",
        "calc.parameters.method = 'mp2'\n",
        "calc.parameters.density_fit = True\n",
        "\n",
        "mol.calc = calc\n",
        "mol.get_potential_energy()"
      ],
      "metadata": {
        "colab": {
          "base_uri": "https://localhost:8080/"
        },
        "id": "mGUE-wRL5_XH",
        "outputId": "593ed322-f0c9-48ad-9aec-4841d6cfc54f"
      },
      "execution_count": 27,
      "outputs": [
        {
          "output_type": "stream",
          "name": "stdout",
          "text": [
            "CPU times: user 7.6 s, sys: 168 ms, total: 7.77 s\n",
            "Wall time: 7.58 s\n"
          ]
        },
        {
          "output_type": "execute_result",
          "data": {
            "text/plain": [
              "-2167.3273301692716"
            ]
          },
          "metadata": {},
          "execution_count": 27
        }
      ]
    },
    {
      "cell_type": "code",
      "source": [
        "%%time\n",
        "\n",
        "# mp2\n",
        "calc = PySCFCalculator()\n",
        "calc.parameters.verbose = 0\n",
        "calc.parameters.method = 'mp2'\n",
        "calc.parameters.density_fit = False\n",
        "\n",
        "mol.calc = calc\n",
        "mol.get_potential_energy()"
      ],
      "metadata": {
        "colab": {
          "base_uri": "https://localhost:8080/"
        },
        "id": "ALlznpyJ7AXo",
        "outputId": "2bbf8b2d-fb85-4e1e-aecc-2a6441a1e869"
      },
      "execution_count": 28,
      "outputs": [
        {
          "output_type": "stream",
          "name": "stdout",
          "text": [
            "CPU times: user 10.7 s, sys: 256 ms, total: 11 s\n",
            "Wall time: 10.8 s\n"
          ]
        },
        {
          "output_type": "execute_result",
          "data": {
            "text/plain": [
              "-2167.3308455838014"
            ]
          },
          "metadata": {},
          "execution_count": 28
        }
      ]
    },
    {
      "cell_type": "code",
      "source": [
        "%%time\n",
        "\n",
        "# ccsd\n",
        "calc = PySCFCalculator()\n",
        "calc.parameters.verbose = 0\n",
        "calc.parameters.method = 'ccsd'\n",
        "calc.parameters.density_fit = False\n",
        "\n",
        "mol.calc = calc\n",
        "mol.get_potential_energy()"
      ],
      "metadata": {
        "colab": {
          "base_uri": "https://localhost:8080/"
        },
        "id": "17b316p67EZK",
        "outputId": "4216009b-d7f6-4f64-a47a-3e709e15511c"
      },
      "execution_count": 29,
      "outputs": [
        {
          "output_type": "stream",
          "name": "stdout",
          "text": [
            "CPU times: user 27.2 s, sys: 1.55 s, total: 28.7 s\n",
            "Wall time: 29 s\n"
          ]
        },
        {
          "output_type": "execute_result",
          "data": {
            "text/plain": [
              "-2168.2984415137958"
            ]
          },
          "metadata": {},
          "execution_count": 29
        }
      ]
    },
    {
      "cell_type": "code",
      "source": [
        "# ccsd / df --> Not Implemented\n",
        "calc = PySCFCalculator()\n",
        "calc.parameters.verbose = 0\n",
        "calc.parameters.method = 'ccsd'\n",
        "calc.parameters.density_fit = True\n",
        "\n",
        "mol.calc = calc\n",
        "mol.get_potential_energy()"
      ],
      "metadata": {
        "colab": {
          "base_uri": "https://localhost:8080/",
          "height": 410
        },
        "id": "a80vcZ_86133",
        "outputId": "119af096-c40d-44b6-c7fe-fae6bc9289e5"
      },
      "execution_count": 30,
      "outputs": [
        {
          "output_type": "error",
          "ename": "NotImplementedError",
          "evalue": "gpu4pyscf.cc.ccsd_incore.CCSD does not support density_fit yet.",
          "traceback": [
            "\u001b[0;31m---------------------------------------------------------------------------\u001b[0m",
            "\u001b[0;31mNotImplementedError\u001b[0m                       Traceback (most recent call last)",
            "\u001b[0;32m<timed exec>\u001b[0m in \u001b[0;36m<module>\u001b[0;34m\u001b[0m\n",
            "\u001b[0;32m/usr/local/lib/python3.10/dist-packages/ase/atoms.py\u001b[0m in \u001b[0;36mget_potential_energy\u001b[0;34m(self, force_consistent, apply_constraint)\u001b[0m\n\u001b[1;32m    753\u001b[0m                 self, force_consistent=force_consistent)\n\u001b[1;32m    754\u001b[0m         \u001b[0;32melse\u001b[0m\u001b[0;34m:\u001b[0m\u001b[0;34m\u001b[0m\u001b[0;34m\u001b[0m\u001b[0m\n\u001b[0;32m--> 755\u001b[0;31m             \u001b[0menergy\u001b[0m \u001b[0;34m=\u001b[0m \u001b[0mself\u001b[0m\u001b[0;34m.\u001b[0m\u001b[0m_calc\u001b[0m\u001b[0;34m.\u001b[0m\u001b[0mget_potential_energy\u001b[0m\u001b[0;34m(\u001b[0m\u001b[0mself\u001b[0m\u001b[0;34m)\u001b[0m\u001b[0;34m\u001b[0m\u001b[0;34m\u001b[0m\u001b[0m\n\u001b[0m\u001b[1;32m    756\u001b[0m         \u001b[0;32mif\u001b[0m \u001b[0mapply_constraint\u001b[0m\u001b[0;34m:\u001b[0m\u001b[0;34m\u001b[0m\u001b[0;34m\u001b[0m\u001b[0m\n\u001b[1;32m    757\u001b[0m             \u001b[0;32mfor\u001b[0m \u001b[0mconstraint\u001b[0m \u001b[0;32min\u001b[0m \u001b[0mself\u001b[0m\u001b[0;34m.\u001b[0m\u001b[0mconstraints\u001b[0m\u001b[0;34m:\u001b[0m\u001b[0;34m\u001b[0m\u001b[0;34m\u001b[0m\u001b[0m\n",
            "\u001b[0;32m/usr/local/lib/python3.10/dist-packages/ase/calculators/abc.py\u001b[0m in \u001b[0;36mget_potential_energy\u001b[0;34m(self, atoms, force_consistent)\u001b[0m\n\u001b[1;32m     22\u001b[0m         \u001b[0;32melse\u001b[0m\u001b[0;34m:\u001b[0m\u001b[0;34m\u001b[0m\u001b[0;34m\u001b[0m\u001b[0m\n\u001b[1;32m     23\u001b[0m             \u001b[0mname\u001b[0m \u001b[0;34m=\u001b[0m \u001b[0;34m'energy'\u001b[0m\u001b[0;34m\u001b[0m\u001b[0;34m\u001b[0m\u001b[0m\n\u001b[0;32m---> 24\u001b[0;31m         \u001b[0;32mreturn\u001b[0m \u001b[0mself\u001b[0m\u001b[0;34m.\u001b[0m\u001b[0mget_property\u001b[0m\u001b[0;34m(\u001b[0m\u001b[0mname\u001b[0m\u001b[0;34m,\u001b[0m \u001b[0matoms\u001b[0m\u001b[0;34m)\u001b[0m\u001b[0;34m\u001b[0m\u001b[0;34m\u001b[0m\u001b[0m\n\u001b[0m\u001b[1;32m     25\u001b[0m \u001b[0;34m\u001b[0m\u001b[0m\n\u001b[1;32m     26\u001b[0m     \u001b[0;32mdef\u001b[0m \u001b[0mget_potential_energies\u001b[0m\u001b[0;34m(\u001b[0m\u001b[0mself\u001b[0m\u001b[0;34m,\u001b[0m \u001b[0matoms\u001b[0m\u001b[0;34m=\u001b[0m\u001b[0;32mNone\u001b[0m\u001b[0;34m)\u001b[0m\u001b[0;34m:\u001b[0m\u001b[0;34m\u001b[0m\u001b[0;34m\u001b[0m\u001b[0m\n",
            "\u001b[0;32m/usr/local/lib/python3.10/dist-packages/ase/calculators/calculator.py\u001b[0m in \u001b[0;36mget_property\u001b[0;34m(self, name, atoms, allow_calculation)\u001b[0m\n\u001b[1;32m    536\u001b[0m                 \u001b[0mself\u001b[0m\u001b[0;34m.\u001b[0m\u001b[0matoms\u001b[0m \u001b[0;34m=\u001b[0m \u001b[0matoms\u001b[0m\u001b[0;34m.\u001b[0m\u001b[0mcopy\u001b[0m\u001b[0;34m(\u001b[0m\u001b[0;34m)\u001b[0m\u001b[0;34m\u001b[0m\u001b[0;34m\u001b[0m\u001b[0m\n\u001b[1;32m    537\u001b[0m \u001b[0;34m\u001b[0m\u001b[0m\n\u001b[0;32m--> 538\u001b[0;31m             \u001b[0mself\u001b[0m\u001b[0;34m.\u001b[0m\u001b[0mcalculate\u001b[0m\u001b[0;34m(\u001b[0m\u001b[0matoms\u001b[0m\u001b[0;34m,\u001b[0m \u001b[0;34m[\u001b[0m\u001b[0mname\u001b[0m\u001b[0;34m]\u001b[0m\u001b[0;34m,\u001b[0m \u001b[0msystem_changes\u001b[0m\u001b[0;34m)\u001b[0m\u001b[0;34m\u001b[0m\u001b[0;34m\u001b[0m\u001b[0m\n\u001b[0m\u001b[1;32m    539\u001b[0m \u001b[0;34m\u001b[0m\u001b[0m\n\u001b[1;32m    540\u001b[0m         \u001b[0;32mif\u001b[0m \u001b[0mname\u001b[0m \u001b[0;32mnot\u001b[0m \u001b[0;32min\u001b[0m \u001b[0mself\u001b[0m\u001b[0;34m.\u001b[0m\u001b[0mresults\u001b[0m\u001b[0;34m:\u001b[0m\u001b[0;34m\u001b[0m\u001b[0;34m\u001b[0m\u001b[0m\n",
            "\u001b[0;32m<ipython-input-16-c7565dd7e5f2>\u001b[0m in \u001b[0;36mcalculate\u001b[0;34m(self, atoms, properties, system_changes)\u001b[0m\n\u001b[1;32m    150\u001b[0m \u001b[0;34m\u001b[0m\u001b[0m\n\u001b[1;32m    151\u001b[0m         \u001b[0;32mif\u001b[0m \u001b[0mself\u001b[0m\u001b[0;34m.\u001b[0m\u001b[0mmf\u001b[0m \u001b[0;32mis\u001b[0m \u001b[0;32mNone\u001b[0m\u001b[0;34m:\u001b[0m\u001b[0;34m\u001b[0m\u001b[0;34m\u001b[0m\u001b[0m\n\u001b[0;32m--> 152\u001b[0;31m             \u001b[0mself\u001b[0m\u001b[0;34m.\u001b[0m\u001b[0m_run_post_HF\u001b[0m\u001b[0;34m(\u001b[0m\u001b[0;34m)\u001b[0m\u001b[0;34m\u001b[0m\u001b[0;34m\u001b[0m\u001b[0m\n\u001b[0m\u001b[1;32m    153\u001b[0m \u001b[0;34m\u001b[0m\u001b[0m\n\u001b[1;32m    154\u001b[0m         \u001b[0;32mif\u001b[0m \u001b[0;34m'energy'\u001b[0m \u001b[0;32min\u001b[0m \u001b[0mproperties\u001b[0m \u001b[0;32mand\u001b[0m \u001b[0;34m'energy'\u001b[0m \u001b[0;32mnot\u001b[0m \u001b[0;32min\u001b[0m \u001b[0mself\u001b[0m\u001b[0;34m.\u001b[0m\u001b[0mresults\u001b[0m\u001b[0;34m:\u001b[0m\u001b[0;34m\u001b[0m\u001b[0;34m\u001b[0m\u001b[0m\n",
            "\u001b[0;32m<ipython-input-16-c7565dd7e5f2>\u001b[0m in \u001b[0;36m_run_post_HF\u001b[0;34m(self)\u001b[0m\n\u001b[1;32m    179\u001b[0m \u001b[0;34m\u001b[0m\u001b[0m\n\u001b[1;32m    180\u001b[0m         \u001b[0;31m# post HF 설정 : MP2, CCSD  --> self.post_hf\u001b[0m\u001b[0;34m\u001b[0m\u001b[0;34m\u001b[0m\u001b[0m\n\u001b[0;32m--> 181\u001b[0;31m         \u001b[0mself\u001b[0m\u001b[0;34m.\u001b[0m\u001b[0m_set_post_HF_method\u001b[0m\u001b[0;34m(\u001b[0m\u001b[0;34m)\u001b[0m\u001b[0;34m\u001b[0m\u001b[0;34m\u001b[0m\u001b[0m\n\u001b[0m\u001b[1;32m    182\u001b[0m \u001b[0;34m\u001b[0m\u001b[0m\n\u001b[1;32m    183\u001b[0m         \u001b[0mself\u001b[0m\u001b[0;34m.\u001b[0m\u001b[0mmf\u001b[0m \u001b[0;34m=\u001b[0m \u001b[0mself\u001b[0m\u001b[0;34m.\u001b[0m\u001b[0m_hf\u001b[0m\u001b[0;34m(\u001b[0m\u001b[0mself\u001b[0m\u001b[0;34m.\u001b[0m\u001b[0mmol\u001b[0m\u001b[0;34m)\u001b[0m\u001b[0;34m\u001b[0m\u001b[0;34m\u001b[0m\u001b[0m\n",
            "\u001b[0;32m<ipython-input-16-c7565dd7e5f2>\u001b[0m in \u001b[0;36m_set_post_HF_method\u001b[0;34m(self)\u001b[0m\n\u001b[1;32m    117\u001b[0m                 \u001b[0;31m# CCSD with RI approx. : not yet implemented\u001b[0m\u001b[0;34m\u001b[0m\u001b[0;34m\u001b[0m\u001b[0m\n\u001b[1;32m    118\u001b[0m                 \u001b[0;32melif\u001b[0m \u001b[0mself\u001b[0m\u001b[0;34m.\u001b[0m\u001b[0mparameters\u001b[0m\u001b[0;34m.\u001b[0m\u001b[0mmethod\u001b[0m \u001b[0;34m==\u001b[0m \u001b[0;34m'ccsd'\u001b[0m\u001b[0;34m:\u001b[0m\u001b[0;34m\u001b[0m\u001b[0;34m\u001b[0m\u001b[0m\n\u001b[0;32m--> 119\u001b[0;31m                     \u001b[0;32mraise\u001b[0m \u001b[0mNotImplementedError\u001b[0m\u001b[0;34m(\u001b[0m\u001b[0;34m\"gpu4pyscf.cc.ccsd_incore.CCSD does not support density_fit yet.\"\u001b[0m\u001b[0;34m)\u001b[0m\u001b[0;34m\u001b[0m\u001b[0;34m\u001b[0m\u001b[0m\n\u001b[0m\u001b[1;32m    120\u001b[0m             \u001b[0;31m# without density_fit\u001b[0m\u001b[0;34m\u001b[0m\u001b[0;34m\u001b[0m\u001b[0m\n\u001b[1;32m    121\u001b[0m             \u001b[0;32melif\u001b[0m \u001b[0;32mnot\u001b[0m \u001b[0mself\u001b[0m\u001b[0;34m.\u001b[0m\u001b[0mparameters\u001b[0m\u001b[0;34m.\u001b[0m\u001b[0mdensity_fit\u001b[0m\u001b[0;34m:\u001b[0m\u001b[0;34m\u001b[0m\u001b[0;34m\u001b[0m\u001b[0m\n",
            "\u001b[0;31mNotImplementedError\u001b[0m: gpu4pyscf.cc.ccsd_incore.CCSD does not support density_fit yet."
          ]
        }
      ]
    },
    {
      "cell_type": "code",
      "source": [],
      "metadata": {
        "id": "fTbTQIsX7G2o"
      },
      "execution_count": null,
      "outputs": []
    }
  ]
}