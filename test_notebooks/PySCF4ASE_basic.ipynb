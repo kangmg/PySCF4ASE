{
  "nbformat": 4,
  "nbformat_minor": 0,
  "metadata": {
    "colab": {
      "provenance": [],
      "gpuType": "T4",
      "authorship_tag": "ABX9TyPxlSWb8DWOysz00vmfSv5z",
      "include_colab_link": true
    },
    "kernelspec": {
      "name": "python3",
      "display_name": "Python 3"
    },
    "language_info": {
      "name": "python"
    },
    "accelerator": "GPU"
  },
  "cells": [
    {
      "cell_type": "markdown",
      "metadata": {
        "id": "view-in-github",
        "colab_type": "text"
      },
      "source": [
        "<a href=\"https://colab.research.google.com/github/kangmg/PySCF4ASE/blob/main/test_notebooks/PySCF4ASE_basic.ipynb\" target=\"_parent\"><img src=\"https://colab.research.google.com/assets/colab-badge.svg\" alt=\"Open In Colab\"/></a>"
      ]
    },
    {
      "cell_type": "code",
      "source": [
        "#@title <p><font size=5 color=\"#80aaff\">Write requirements.txt</font></p>\n",
        "#@markdown Write an appropriate requirements.txt for your CUDA version.\n",
        "%%bash\n",
        "\n",
        "# requirements.txt\n",
        "echo 'ase' > requirements.txt\n",
        "echo 'pyscf' >> requirements.txt\n",
        "echo 'torch' >> requirements.txt\n",
        "\n",
        "# check CUDA VERSION\n",
        "NVCC_VERSION=$(nvcc --version | grep -oP 'release \\K[0-9]+\\.[0-9]+' | cut -d'.' -f1)\n",
        "\n",
        "echo -e \"\\033[1;34mYour CUDA Version :\\033[0m $NVCC_VERSION\"\n",
        "\n",
        "# add the appropriate gpu4pysf & cutensor packages for your CUDA version\n",
        "# refer : https://github.com/pyscf/gpu4pyscf/blob/master/README.md\n",
        "if [ \"$NVCC_VERSION\" -eq 11 ]; then\n",
        "  echo \"gpu4pyscf-cuda11x\" >> requirements.txt\n",
        "  echo \"cutensor-cu11\" >> requirements.txt\n",
        "elif [ \"$NVCC_VERSION\" -eq 12 ]; then\n",
        "  echo \"gpu4pyscf-cuda12x\" >> requirements.txt\n",
        "  echo \"cutensor-cu12\" >> requirements.txt\n",
        "else\n",
        "  echo -e \"\\033[1;31mWARNING\\033[0m gpu4pyscf not supported your CUDA Version\"\n",
        "fi\n",
        "\n",
        "echo ''\n",
        "echo -e '\\033[1;32mrequirements.txt\\033[0m'\n",
        "echo -e '\\033[1;32m----------------\\033[0m'\n",
        "cat requirements.txt\n",
        "echo -e '\\033[1;32m----------------\\033[0m'"
      ],
      "metadata": {
        "colab": {
          "base_uri": "https://localhost:8080/"
        },
        "cellView": "form",
        "id": "jUTT11a1FiAb",
        "outputId": "529fa02f-c229-4dcb-d327-55aeb16fd012"
      },
      "execution_count": null,
      "outputs": [
        {
          "output_type": "stream",
          "name": "stdout",
          "text": [
            "\u001b[1;34mYour CUDA Version :\u001b[0m 12\n",
            "\n",
            "\u001b[1;32mrequirements.txt\u001b[0m\n",
            "\u001b[1;32m----------------\u001b[0m\n",
            "ase\n",
            "pyscf\n",
            "torch\n",
            "gpu4pyscf-cuda12x\n",
            "cutensor-cu12\n",
            "\u001b[1;32m----------------\u001b[0m\n"
          ]
        }
      ]
    },
    {
      "cell_type": "code",
      "source": [
        "#@title <p><font size=5 color=\"#80aaff\">Setup</font></p>\n",
        "\n",
        "# install packages\n",
        "%pip install -q -r requirements.txt\n",
        "\n",
        "\n",
        "# escape color codes\n",
        "RED = '\\033[31m'\n",
        "GREEN = '\\033[32m'\n",
        "BLUE = '\\033[34m'\n",
        "RESET = '\\033[0m'\n",
        "'''\n",
        "print(f\"{RED}This is red text{RESET}\")\n",
        "print(f\"{GREEN}This is green text{RESET}\")\n",
        "print(f\"{BLUE}This is blue text{RESET}\")\n",
        "'''\n",
        "\n",
        "# colab gpu error\n",
        "import locale\n",
        "locale.getpreferredencoding = lambda: \"UTF-8\"\n",
        "\n",
        "# dict to string function for comparing the parameters\n",
        "def dict_to_str(parameters):\n",
        "    return '\\n'.join(f\"'{k}' : {v}\" for k, v in parameters.items())"
      ],
      "metadata": {
        "colab": {
          "base_uri": "https://localhost:8080/"
        },
        "id": "b5iWvcVXtnRj",
        "outputId": "0f3e0856-6821-4e80-e272-f56e84e93b53",
        "cellView": "form"
      },
      "execution_count": null,
      "outputs": [
        {
          "output_type": "stream",
          "name": "stdout",
          "text": [
            "\u001b[2K     \u001b[90m━━━━━━━━━━━━━━━━━━━━━━━━━━━━━━━━━━━━━━━━\u001b[0m \u001b[32m2.9/2.9 MB\u001b[0m \u001b[31m9.1 MB/s\u001b[0m eta \u001b[36m0:00:00\u001b[0m\n",
            "\u001b[2K     \u001b[90m━━━━━━━━━━━━━━━━━━━━━━━━━━━━━━━━━━━━━━━━\u001b[0m \u001b[32m48.6/48.6 MB\u001b[0m \u001b[31m10.5 MB/s\u001b[0m eta \u001b[36m0:00:00\u001b[0m\n",
            "\u001b[2K     \u001b[90m━━━━━━━━━━━━━━━━━━━━━━━━━━━━━━━━━━━━━━━━\u001b[0m \u001b[32m124.5/124.5 MB\u001b[0m \u001b[31m4.7 MB/s\u001b[0m eta \u001b[36m0:00:00\u001b[0m\n",
            "\u001b[2K     \u001b[90m━━━━━━━━━━━━━━━━━━━━━━━━━━━━━━━━━━━━━━━━\u001b[0m \u001b[32m156.9/156.9 MB\u001b[0m \u001b[31m3.3 MB/s\u001b[0m eta \u001b[36m0:00:00\u001b[0m\n",
            "\u001b[2K     \u001b[90m━━━━━━━━━━━━━━━━━━━━━━━━━━━━━━━━━━━━━━━━\u001b[0m \u001b[32m21.3/21.3 MB\u001b[0m \u001b[31m50.7 MB/s\u001b[0m eta \u001b[36m0:00:00\u001b[0m\n",
            "\u001b[2K     \u001b[90m━━━━━━━━━━━━━━━━━━━━━━━━━━━━━━━━━━━━━━━━\u001b[0m \u001b[32m12.1/12.1 MB\u001b[0m \u001b[31m70.8 MB/s\u001b[0m eta \u001b[36m0:00:00\u001b[0m\n",
            "\u001b[2K     \u001b[90m━━━━━━━━━━━━━━━━━━━━━━━━━━━━━━━━━━━━━━━━\u001b[0m \u001b[32m385.0/385.0 kB\u001b[0m \u001b[31m14.4 MB/s\u001b[0m eta \u001b[36m0:00:00\u001b[0m\n",
            "\u001b[?25h  Preparing metadata (setup.py) ... \u001b[?25l\u001b[?25hdone\n",
            "\u001b[2K     \u001b[90m━━━━━━━━━━━━━━━━━━━━━━━━━━━━━━━━━━━━━━━━\u001b[0m \u001b[32m165.3/165.3 MB\u001b[0m \u001b[31m5.2 MB/s\u001b[0m eta \u001b[36m0:00:00\u001b[0m\n",
            "\u001b[?25h  Building wheel for geometric (setup.py) ... \u001b[?25l\u001b[?25hdone\n"
          ]
        }
      ]
    },
    {
      "cell_type": "code",
      "execution_count": null,
      "metadata": {
        "id": "pLOSYrlukxr0"
      },
      "outputs": [],
      "source": [
        "#@title <p><font size=5 color=\"#80aaff\">PySCF Calculator for ASE interface</font></p>\n",
        "\n",
        "\n",
        "'''\n",
        "===================================================\n",
        "TODO\n",
        "---------------------------------------------------\n",
        "\n",
        "[ ] default 값 세팅하기\n",
        "[#] gpu 확인해서 cpu gpu 버전 확인하기\n",
        "[#] disp 추가하기\n",
        "[ ] xc, disp 리스트 추가하기\n",
        "[ ] system_changes 의미\n",
        "[ ] init에서 **kwargs 말고 명시적으로 추가\n",
        "[ ] verbose 등도 추가# unit convertor 추가하기\n",
        "[ ] log 파일 저장 or 출력 지정하기기\n",
        "[ ] parameter summary table 추가가\n",
        "[ ] nlc랑 xc, basis 뭐가 가능한지, D3 D4 같은 것도 더 공부하기\n",
        "[#] verbose 등도 추가\n",
        "[#] max_memory, auxbasis, output\n",
        "[ ] xc를 설정하면 disp랑 호환이 안되는 경우도 있음 이 경우 어떻게 처리할지?\n",
        "[#] disp랑 nlc 부분 다시 손보기\n",
        "[ ] 목적에 맞는 custom cacl나 ftn 만들기\n",
        "[ ] dm21도 사용 가능하게 하기\n",
        "[ ] RKS 말고 UKS도 설정 가능하게 해야 함\n",
        "[ ] gpu cpu 모드가 제대로 설정이 안되는 듯. _set_device를 calculate에 넣어야 함\n",
        "[ ] 오류 수정\n",
        "# /usr/local/lib/python3.10/dist-packages/pyscf/gto/mole.py:1284: UserWarning: Function mol.dumps drops attribute ctxlock because it is not JSON-serializable warnings.warn(msg)\n",
        "[ ] 버려지는 값들도 접근 가능하게 추가\n",
        "# pyscf.dft.RKS가 반환하는 다른 값들\n",
        "#     mo_energy :\n",
        "#         Orbital energies\n",
        "#     mo_occ\n",
        "#         Orbital occupancy\n",
        "#     mo_coeff\n",
        "#         Orbital coefficients\n",
        "===================================================\n",
        "\n",
        "\n",
        "\n",
        "===================================================\n",
        "DFT-D4 DFT supported functionals\n",
        "---------------------------------------------------\n",
        "\n",
        "Use D4 if the specified functional is avialable.\n",
        "Currently, only a subset of functionals in DFT-D4\n",
        "is supported. It includes :\n",
        "\n",
        "B3LYP, B97, B1LYP, PBE0, PW6B95, M06L, M06, WB97,\n",
        "WB97X, CAMB3LYP, PBE02, PBE0DH, MPW1K, MPWB1K,\n",
        "B1B95, B1PW91, B2GPPLYP, B2PLYP, B3P86, B3PW91,\n",
        "O3LYP, REVPBE, REVPBE0, REVTPSS, REVTPSSH, SCAN,\n",
        "TPSS0, TPSSH, X3LYP, TPSS, BP86, BLYP, BPBE,\n",
        "MPW1PW91, MPW1LYP, PBE, RPBE, and PW91.\n",
        "\n",
        "\n",
        "Ref. https://manual.q-chem.com/6.0/subsec_DFT-D.html\n",
        "\n",
        "===================================================\n",
        "\n",
        "\n",
        "\n",
        "[Units]\n",
        "=======  ===========  =============\n",
        "Program  Quantities   Unit\n",
        "-------  -----------  -------------\n",
        "PySCF    Energy       Ha\n",
        "PySCF    Force        Ha/Bohr\n",
        "ASE      Energy       eV\n",
        "ASE      Force        eV/Ang\n",
        "=======  ===========  =============\n",
        "\n",
        "\n",
        "\n",
        "===================================================\n",
        "pyscf xc, disp, nlc 사용 관련 참고\n",
        "---------------------------------------------------\n",
        "\n",
        "xc에 disp correction(e.g. d3bj d4 등을 붙여주면 disp correciton이 자동으로 수행됨)\n",
        "nlc랑 disp랑 둘 다 계산되는 걸 주의해야 함\n",
        "\n",
        "\n",
        "https://github.com/pyscf/pyscf/blob/master/examples/dft/16-dft_d3.py\n",
        "\n",
        "===================================================\n",
        "'''\n",
        "\n",
        "import numpy as np\n",
        "from ase.calculators.calculator import Calculator, all_changes\n",
        "from ase.units import Ha, Bohr\n",
        "import torch\n",
        "import pyscf\n",
        "\n",
        "class PySCFCalculator(Calculator):\n",
        "    '''\n",
        "    Description\n",
        "    ===========\n",
        "    PySCF ASE Calculator for dft caculations\n",
        "    '''\n",
        "\n",
        "    '''\n",
        "    ===============\n",
        "    Units\n",
        "    ---------------\n",
        "    Energy  eV\n",
        "    Force   eV/Ang\n",
        "    ===============\n",
        "    '''\n",
        "\n",
        "\n",
        "    implemented_properties = ['energy', 'forces']\n",
        "\n",
        "    default_parameters = {\n",
        "        'charge': 0, # system charge\n",
        "        'spin': 0, # (= nelec alpha-beta = 2S)\n",
        "        'symmetry': False, # point group symmetry : e.g. Cs or C2v Ref. https://github.com/pyscf/pyscf/blob/master/examples/gto/13-symmetry.py\n",
        "        'basis': 'def2-tzvp', # basis set\n",
        "        'xc': 'wb97m-d3bj', # xc functional\n",
        "        'density_fit': True, # resolution of identity approximation\n",
        "        'auxbasis': 'auto', # basis for density_fit : e.g. 'cc-pvdz-jkfit' or 'auto'(pyscf sets automatically)\n",
        "        'device': 'auto', # gpu, cpu\n",
        "        'disp': None, # dispersion correction : d3bj d4 d3 etc.\n",
        "        'nlc': 'auto', # non-local correlation. :  0, 'auto', nlc-functional\n",
        "        # [Note]\n",
        "        # Set nlc to 0 when D3 and D4 dispersion corrections are applied\n",
        "        # https://github.com/pyscf/pyscf/blob/master/examples/dft/15-nlc_functionals.py\n",
        "        # https://github.com/pyscf/pyscf/blob/master/examples/dft/16-dft_d3.py\n",
        "        'max_cycle': 50, # max number of iterations\n",
        "        'conv_tol': 1e-9, # converge threshold\n",
        "        'verbose' : 4, # output log level\n",
        "        'max_memory': 150000, # MB unit\n",
        "        'chkfile': None, # chkpoint file contains MOs, orbital energies etc. : (str) e.g. './checkpoint/pyscf.chk'\n",
        "        'output': None, # log file : (str) e.g. './output/pyscf_output.log'\n",
        "        # TODO : conv_tol_grad, init_guess\n",
        "    }\n",
        "\n",
        "    def _set_device(self):\n",
        "        # set device\n",
        "        if self.parameters.device == 'auto':\n",
        "            self.parameters.device = 'gpu' if torch.cuda.is_available() else 'cpu'\n",
        "        # import modules : dft\n",
        "        if self.parameters.device == 'cpu':\n",
        "            from pyscf import dft\n",
        "            self.dft = dft\n",
        "        elif self.parameters.device == 'gpu':\n",
        "            from gpu4pyscf import dft\n",
        "            self.dft = dft\n",
        "        else:\n",
        "            raise ValueError(f\"Invalid device: {self.parameters.device}, 'gpu' or 'cpu' supported.\")\n",
        "\n",
        "    def __init__(self, restart=None, label='PySCF', **kwargs):\n",
        "        super().__init__(restart=restart, label=label, **kwargs)\n",
        "        self.mol = None\n",
        "        self.mf = None\n",
        "\n",
        "\n",
        "    def calculate(self, atoms=None, properties=['energy'], system_changes=all_changes):\n",
        "        super().calculate(atoms, properties, system_changes)\n",
        "\n",
        "        self._set_device()\n",
        "\n",
        "        if self.atoms is None:\n",
        "            raise ValueError(\"atoms object is not set.\")\n",
        "\n",
        "        if system_changes:\n",
        "            self.results.clear()\n",
        "            self.mol = None\n",
        "            self.mf = None\n",
        "\n",
        "        if self.mol is None:\n",
        "            self._generate_molecule()\n",
        "\n",
        "        if self.mf is None:\n",
        "            self._run_dft()\n",
        "\n",
        "        if 'energy' in properties and 'energy' not in self.results:\n",
        "            # pyscf energy unit : Hatree\n",
        "            # ase energy unit : eV\n",
        "            self.results['energy'] = self.mf.e_tot * Ha\n",
        "\n",
        "        if 'forces' in properties and 'forces' not in self.results:\n",
        "            # pyscf force unit : Ha/Bohr\n",
        "            # ase force unit : eV/Ang\n",
        "            self.results['forces'] = self._calculate_forces() * Ha / Bohr\n",
        "\n",
        "    def _generate_molecule(self):\n",
        "        positions = self.atoms.get_positions()\n",
        "        symbols = self.atoms.get_chemical_symbols()\n",
        "        atom_str = \"; \".join([f\"{s} {p[0]} {p[1]} {p[2]}\" for s, p in zip(symbols, positions)])\n",
        "        self.mol = pyscf.M(atom=atom_str,\n",
        "                         basis=self.parameters.basis,\n",
        "                         charge=self.parameters.charge,\n",
        "                         spin=self.parameters.spin,\n",
        "                         symmetry=self.parameters.symmetry,\n",
        "                         verbose = self.parameters.verbose,\n",
        "                         max_memory=self.parameters.max_memory,\n",
        "                         output=self.parameters.output,\n",
        "                         unit='Angstrom')\n",
        "\n",
        "\n",
        "    def _run_dft(self):\n",
        "        self.mf = self.dft.RKS(self.mol)\n",
        "        self.mf.xc = self.parameters.xc\n",
        "        self.mf.max_cycle = self.parameters.max_cycle\n",
        "        self.mf.conv_tol = self.parameters.conv_tol\n",
        "        self.mf.disp = self.parameters.disp\n",
        "\n",
        "        # checkpoint file : default is /tmp\n",
        "        if self.parameters.chkfile:\n",
        "            self.mf.chkfile = self.parameters.chkfile\n",
        "\n",
        "        # non-local correlation\n",
        "        if self.parameters.nlc != 'auto':\n",
        "            self.mf.nlc = self.parameters.nlc\n",
        "\n",
        "        # density_fit ( or resolution of identity (RI) approximation)\n",
        "        if self.parameters.density_fit:\n",
        "            if self.parameters.auxbasis == 'auto':\n",
        "                self.mf.density_fit()\n",
        "            elif self.parameters.auxbasis != 'auto':\n",
        "                self.mf.density_fit(auxbasis=self.parameters.auxbasis)\n",
        "\n",
        "        self.mf.kernel()\n",
        "\n",
        "    def _calculate_forces(self):\n",
        "        return -self.mf.nuc_grad_method().kernel() # unit : Ha/Bohr"
      ]
    },
    {
      "cell_type": "markdown",
      "source": [
        "<p><font size=5 color=\"pink\">Usage of Calculator</font></p>"
      ],
      "metadata": {
        "id": "QgqJuv0IKZqq"
      }
    },
    {
      "cell_type": "markdown",
      "source": [
        "> Define your system & ase.atoms.Atoms"
      ],
      "metadata": {
        "id": "S-HBs1pIKiDw"
      }
    },
    {
      "cell_type": "code",
      "source": [
        "%%writefile sn2.xyz\n",
        "6\n",
        "\n",
        "C -1.277168 0.545365 -0.000063\n",
        "Br 0.648058 0.543727 0.000199\n",
        "H -1.652166 0.593222 1.017641\n",
        "H -1.652215 -0.359651 -0.467952\n",
        "H -1.651698 1.403205 -0.550042\n",
        "Cl -4.402752 0.572053 0.000227"
      ],
      "metadata": {
        "colab": {
          "base_uri": "https://localhost:8080/"
        },
        "id": "-vVHklXlGNJT",
        "outputId": "232d026d-4919-42d9-a4a6-59ffd54b0c96"
      },
      "execution_count": null,
      "outputs": [
        {
          "output_type": "stream",
          "name": "stdout",
          "text": [
            "Writing sn2.xyz\n"
          ]
        }
      ]
    },
    {
      "cell_type": "code",
      "source": [
        "from ase.io import read\n",
        "\n",
        "# define ase atoms object : ase.atoms.Atoms\n",
        "mol = read(\"sn2.xyz\", format='xyz')"
      ],
      "metadata": {
        "id": "QpI-iyLlGrIz"
      },
      "execution_count": null,
      "outputs": []
    },
    {
      "cell_type": "code",
      "source": [
        "#@title check molecule\n",
        "\n",
        "from ase.io import write\n",
        "import matplotlib.pyplot as plt\n",
        "import matplotlib.image as mpimg\n",
        "\n",
        "# save image\n",
        "write(\"mol.png\", mol, rotation=\"-130x,0y,0z\")\n",
        "img = mpimg.imread(\"mol.png\")\n",
        "\n",
        "# plot image\n",
        "plt.figure(figsize=(4, 2))\n",
        "plt.imshow(img)\n",
        "plt.axis('off')\n",
        "plt.show()"
      ],
      "metadata": {
        "colab": {
          "base_uri": "https://localhost:8080/",
          "height": 143
        },
        "cellView": "form",
        "id": "IrA5_eYSHkd5",
        "outputId": "4a2c7b2d-0f09-4a8b-9b9c-092c67257413"
      },
      "execution_count": null,
      "outputs": [
        {
          "output_type": "display_data",
          "data": {
            "text/plain": [
              "<Figure size 400x200 with 1 Axes>"
            ],
            "image/png": "[encoded data removed]"
          },
          "metadata": {}
        }
      ]
    },
    {
      "cell_type": "markdown",
      "source": [
        "> Define PySCF DFT calculator"
      ],
      "metadata": {
        "id": "vNywM5STKyTS"
      }
    },
    {
      "cell_type": "code",
      "source": [
        "# define calculator\n",
        "calc = PySCFCalculator()\n",
        "\n",
        "# check parameters\n",
        "print(f'{BLUE}Default Parameters : {RESET}')\n",
        "display(calc.parameters)\n",
        "\n",
        "# just for comparison\n",
        "import copy\n",
        "DEFAULT_PARAMS = copy.deepcopy(calc.parameters)"
      ],
      "metadata": {
        "id": "ZAiHxj3-lOCB",
        "colab": {
          "base_uri": "https://localhost:8080/",
          "height": 386
        },
        "outputId": "2bb45528-c566-45c4-9104-65727e4bf663"
      },
      "execution_count": null,
      "outputs": [
        {
          "output_type": "stream",
          "name": "stderr",
          "text": [
            "/usr/local/lib/python3.10/dist-packages/gpu4pyscf/lib/cutensor.py:138: UserWarning: using cupy as the tensor contraction engine.\n",
            "  warnings.warn(f'using {contract_engine} as the tensor contraction engine.')\n"
          ]
        },
        {
          "output_type": "stream",
          "name": "stdout",
          "text": [
            "\u001b[34mDefault Parameters : \u001b[0m\n"
          ]
        },
        {
          "output_type": "display_data",
          "data": {
            "text/plain": [
              "{'charge': 0,\n",
              " 'spin': 0,\n",
              " 'symmetry': False,\n",
              " 'basis': 'def2-tzvp',\n",
              " 'xc': 'wb97m-d3bj',\n",
              " 'density_fit': True,\n",
              " 'auxbasis': 'auto',\n",
              " 'device': 'gpu',\n",
              " 'disp': None,\n",
              " 'nlc': 'auto',\n",
              " 'max_cycle': 50,\n",
              " 'conv_tol': 1e-09,\n",
              " 'verbose': 4,\n",
              " 'max_memory': 150000,\n",
              " 'chkfile': None,\n",
              " 'output': None}"
            ]
          },
          "metadata": {}
        }
      ]
    },
    {
      "cell_type": "markdown",
      "source": [
        "> Change Parameters"
      ],
      "metadata": {
        "id": "Xy2nJp6DK5Cn"
      }
    },
    {
      "cell_type": "code",
      "source": [
        "# change parameters\n",
        "calc.parameters.charge = -1\n",
        "calc.parameters.spin = 0\n",
        "calc.parameters.basis = 'cc-pvtz'\n",
        "calc.parameters.xc = 'wb97m-v'\n",
        "calc.parameters.nlc = 0\n",
        "calc.parameters.disp = 'd3bj'\n",
        "calc.parameters.auxbasis = 'cc-pvdz-jkfit'"
      ],
      "metadata": {
        "id": "T9jFQM3L4xnZ"
      },
      "execution_count": null,
      "outputs": []
    },
    {
      "cell_type": "code",
      "source": [
        "#@title Parameters diff table\n",
        "import difflib\n",
        "from IPython.display import HTML\n",
        "\n",
        "difflib.HtmlDiff._legend = ''\n",
        "\n",
        "# diff. table\n",
        "html_content = difflib.HtmlDiff().make_file(\n",
        "    dict_to_str(DEFAULT_PARAMS).splitlines(),\n",
        "    dict_to_str(calc.parameters).splitlines(),\n",
        "    'default',\n",
        "    'changed'\n",
        ")\n",
        "\n",
        "# Add custom CSS to make text bold\n",
        "custom_css = \"\"\"\n",
        "<style>\n",
        "    body {\n",
        "        color: gray;\n",
        "        font-weight: bold;\n",
        "    }\n",
        "    table {\n",
        "        color: black;\n",
        "        font-weight: bold;\n",
        "    }\n",
        "</style>\n",
        "\"\"\"\n",
        "\n",
        "# table customizing\n",
        "styled_html = custom_css + html_content\n",
        "\n",
        "print(' Difference between Default VS. Changed Parameters\\n')\n",
        "# Display the styled HTML\n",
        "display(HTML(styled_html))"
      ],
      "metadata": {
        "colab": {
          "base_uri": "https://localhost:8080/",
          "height": 352
        },
        "cellView": "form",
        "id": "nBLTCepb-AH4",
        "outputId": "256085b8-f08d-4ba0-d9c9-13b8024528b1"
      },
      "execution_count": null,
      "outputs": [
        {
          "output_type": "stream",
          "name": "stdout",
          "text": [
            " Difference between Default VS. Changed Parameters\n",
            "\n"
          ]
        },
        {
          "output_type": "display_data",
          "data": {
            "text/plain": [
              "<IPython.core.display.HTML object>"
            ],
            "text/html": [
              "\n",
              "<style>\n",
              "    body { \n",
              "        color: gray; \n",
              "        font-weight: bold;\n",
              "    }\n",
              "    table { \n",
              "        color: black; \n",
              "        font-weight: bold;\n",
              "    }\n",
              "</style>\n",
              "\n",
              "<!DOCTYPE html PUBLIC \"-//W3C//DTD XHTML 1.0 Transitional//EN\"\n",
              "          \"http://www.w3.org/TR/xhtml1/DTD/xhtml1-transitional.dtd\">\n",
              "\n",
              "<html>\n",
              "\n",
              "<head>\n",
              "    <meta http-equiv=\"Content-Type\"\n",
              "          content=\"text/html; charset=utf-8\" />\n",
              "    <title></title>\n",
              "    <style type=\"text/css\">\n",
              "        table.diff {font-family:Courier; border:medium;}\n",
              "        .diff_header {background-color:#e0e0e0}\n",
              "        td.diff_header {text-align:right}\n",
              "        .diff_next {background-color:#c0c0c0}\n",
              "        .diff_add {background-color:#aaffaa}\n",
              "        .diff_chg {background-color:#ffff77}\n",
              "        .diff_sub {background-color:#ffaaaa}\n",
              "    </style>\n",
              "</head>\n",
              "\n",
              "<body>\n",
              "    \n",
              "    <table class=\"diff\" id=\"difflib_chg_to0__top\"\n",
              "           cellspacing=\"0\" cellpadding=\"0\" rules=\"groups\" >\n",
              "        <colgroup></colgroup> <colgroup></colgroup> <colgroup></colgroup>\n",
              "        <colgroup></colgroup> <colgroup></colgroup> <colgroup></colgroup>\n",
              "        <thead><tr><th class=\"diff_next\"><br /></th><th colspan=\"2\" class=\"diff_header\">default</th><th class=\"diff_next\"><br /></th><th colspan=\"2\" class=\"diff_header\">changed</th></tr></thead>\n",
              "        <tbody>\n",
              "            <tr><td class=\"diff_next\" id=\"difflib_chg_to0__1\"><a href=\"#difflib_chg_to0__1\">n</a></td><td class=\"diff_header\" id=\"from0_1\">1</td><td nowrap=\"nowrap\">'charge'&nbsp;:&nbsp;<span class=\"diff_chg\">0</span></td><td class=\"diff_next\"><a href=\"#difflib_chg_to0__1\">n</a></td><td class=\"diff_header\" id=\"to0_1\">1</td><td nowrap=\"nowrap\">'charge'&nbsp;:&nbsp;<span class=\"diff_chg\">-1</span></td></tr>\n",
              "            <tr><td class=\"diff_next\" id=\"difflib_chg_to0__2\"></td><td class=\"diff_header\" id=\"from0_2\">2</td><td nowrap=\"nowrap\">'spin'&nbsp;:&nbsp;0</td><td class=\"diff_next\"></td><td class=\"diff_header\" id=\"to0_2\">2</td><td nowrap=\"nowrap\">'spin'&nbsp;:&nbsp;0</td></tr>\n",
              "            <tr><td class=\"diff_next\"></td><td class=\"diff_header\" id=\"from0_3\">3</td><td nowrap=\"nowrap\">'symmetry'&nbsp;:&nbsp;False</td><td class=\"diff_next\"></td><td class=\"diff_header\" id=\"to0_3\">3</td><td nowrap=\"nowrap\">'symmetry'&nbsp;:&nbsp;False</td></tr>\n",
              "            <tr><td class=\"diff_next\" id=\"difflib_chg_to0__3\"><a href=\"#difflib_chg_to0__2\">n</a></td><td class=\"diff_header\" id=\"from0_4\">4</td><td nowrap=\"nowrap\"><span class=\"diff_sub\">'basis'&nbsp;:&nbsp;def2-tzvp</span></td><td class=\"diff_next\"><a href=\"#difflib_chg_to0__2\">n</a></td><td class=\"diff_header\" id=\"to0_4\">4</td><td nowrap=\"nowrap\"><span class=\"diff_add\">'basis'&nbsp;:&nbsp;cc-pvtz</span></td></tr>\n",
              "            <tr><td class=\"diff_next\"></td><td class=\"diff_header\" id=\"from0_5\">5</td><td nowrap=\"nowrap\">'xc'&nbsp;:&nbsp;wb97m-<span class=\"diff_chg\">d3bj</span></td><td class=\"diff_next\"></td><td class=\"diff_header\" id=\"to0_5\">5</td><td nowrap=\"nowrap\">'xc'&nbsp;:&nbsp;wb97m-<span class=\"diff_chg\">v</span></td></tr>\n",
              "            <tr><td class=\"diff_next\"></td><td class=\"diff_header\" id=\"from0_6\">6</td><td nowrap=\"nowrap\">'density_fit'&nbsp;:&nbsp;True</td><td class=\"diff_next\"></td><td class=\"diff_header\" id=\"to0_6\">6</td><td nowrap=\"nowrap\">'density_fit'&nbsp;:&nbsp;True</td></tr>\n",
              "            <tr><td class=\"diff_next\"><a href=\"#difflib_chg_to0__3\">n</a></td><td class=\"diff_header\" id=\"from0_7\">7</td><td nowrap=\"nowrap\"><span class=\"diff_sub\">'auxbasis'&nbsp;:&nbsp;auto</span></td><td class=\"diff_next\"><a href=\"#difflib_chg_to0__3\">n</a></td><td class=\"diff_header\" id=\"to0_7\">7</td><td nowrap=\"nowrap\"><span class=\"diff_add\">'auxbasis'&nbsp;:&nbsp;cc-pvdz-jkfit</span></td></tr>\n",
              "            <tr><td class=\"diff_next\"></td><td class=\"diff_header\" id=\"from0_8\">8</td><td nowrap=\"nowrap\">'device'&nbsp;:&nbsp;gpu</td><td class=\"diff_next\"></td><td class=\"diff_header\" id=\"to0_8\">8</td><td nowrap=\"nowrap\">'device'&nbsp;:&nbsp;gpu</td></tr>\n",
              "            <tr><td class=\"diff_next\"><a href=\"#difflib_chg_to0__top\">t</a></td><td class=\"diff_header\" id=\"from0_9\">9</td><td nowrap=\"nowrap\"><span class=\"diff_sub\">'disp'&nbsp;:&nbsp;None</span></td><td class=\"diff_next\"><a href=\"#difflib_chg_to0__top\">t</a></td><td class=\"diff_header\" id=\"to0_9\">9</td><td nowrap=\"nowrap\"><span class=\"diff_add\">'disp'&nbsp;:&nbsp;d3bj</span></td></tr>\n",
              "            <tr><td class=\"diff_next\"></td><td class=\"diff_header\" id=\"from0_10\">10</td><td nowrap=\"nowrap\">'nlc'&nbsp;:&nbsp;<span class=\"diff_chg\">auto</span></td><td class=\"diff_next\"></td><td class=\"diff_header\" id=\"to0_10\">10</td><td nowrap=\"nowrap\">'nlc'&nbsp;:&nbsp;<span class=\"diff_chg\">0</span></td></tr>\n",
              "            <tr><td class=\"diff_next\"></td><td class=\"diff_header\" id=\"from0_11\">11</td><td nowrap=\"nowrap\">'max_cycle'&nbsp;:&nbsp;50</td><td class=\"diff_next\"></td><td class=\"diff_header\" id=\"to0_11\">11</td><td nowrap=\"nowrap\">'max_cycle'&nbsp;:&nbsp;50</td></tr>\n",
              "            <tr><td class=\"diff_next\"></td><td class=\"diff_header\" id=\"from0_12\">12</td><td nowrap=\"nowrap\">'conv_tol'&nbsp;:&nbsp;1e-09</td><td class=\"diff_next\"></td><td class=\"diff_header\" id=\"to0_12\">12</td><td nowrap=\"nowrap\">'conv_tol'&nbsp;:&nbsp;1e-09</td></tr>\n",
              "            <tr><td class=\"diff_next\"></td><td class=\"diff_header\" id=\"from0_13\">13</td><td nowrap=\"nowrap\">'verbose'&nbsp;:&nbsp;4</td><td class=\"diff_next\"></td><td class=\"diff_header\" id=\"to0_13\">13</td><td nowrap=\"nowrap\">'verbose'&nbsp;:&nbsp;4</td></tr>\n",
              "            <tr><td class=\"diff_next\"></td><td class=\"diff_header\" id=\"from0_14\">14</td><td nowrap=\"nowrap\">'max_memory'&nbsp;:&nbsp;150000</td><td class=\"diff_next\"></td><td class=\"diff_header\" id=\"to0_14\">14</td><td nowrap=\"nowrap\">'max_memory'&nbsp;:&nbsp;150000</td></tr>\n",
              "            <tr><td class=\"diff_next\"></td><td class=\"diff_header\" id=\"from0_15\">15</td><td nowrap=\"nowrap\">'chkfile'&nbsp;:&nbsp;None</td><td class=\"diff_next\"></td><td class=\"diff_header\" id=\"to0_15\">15</td><td nowrap=\"nowrap\">'chkfile'&nbsp;:&nbsp;None</td></tr>\n",
              "            <tr><td class=\"diff_next\"></td><td class=\"diff_header\" id=\"from0_16\">16</td><td nowrap=\"nowrap\">'output'&nbsp;:&nbsp;None</td><td class=\"diff_next\"></td><td class=\"diff_header\" id=\"to0_16\">16</td><td nowrap=\"nowrap\">'output'&nbsp;:&nbsp;None</td></tr>\n",
              "        </tbody>\n",
              "    </table>\n",
              "</body>\n",
              "\n",
              "</html>"
            ]
          },
          "metadata": {}
        }
      ]
    },
    {
      "cell_type": "markdown",
      "source": [
        "> Set Calculator"
      ],
      "metadata": {
        "id": "pzBZ98f5LB3Z"
      }
    },
    {
      "cell_type": "code",
      "source": [
        "# old style\n",
        "# mol.set_calculator(calc)\n",
        "\n",
        "# new style\n",
        "mol.calc = calc\n",
        "\n",
        "print(f\"ASE Calculator QM program : {mol.calc.label}\")"
      ],
      "metadata": {
        "colab": {
          "base_uri": "https://localhost:8080/"
        },
        "id": "pM3H4jv3LUvp",
        "outputId": "89570eaf-f976-4e79-8551-17562d646174"
      },
      "execution_count": null,
      "outputs": [
        {
          "output_type": "stream",
          "name": "stdout",
          "text": [
            "ASE Calculator QM program : PySCF\n"
          ]
        }
      ]
    },
    {
      "cell_type": "markdown",
      "source": [
        "<p><font size=5 color=\"pink\">Single Point Energy</font></p>"
      ],
      "metadata": {
        "id": "CFjUnJZKBE58"
      }
    },
    {
      "cell_type": "code",
      "source": [
        "mol.get_potential_energy()"
      ],
      "metadata": {
        "colab": {
          "base_uri": "https://localhost:8080/"
        },
        "id": "1fWXQZ1oBLIT",
        "outputId": "b5ba10a9-74e1-4b90-833f-25c2bb29e890"
      },
      "execution_count": null,
      "outputs": [
        {
          "output_type": "stream",
          "name": "stdout",
          "text": [
            "System: uname_result(system='Linux', node='e14e32dbc39f', release='6.1.85+', version='#1 SMP PREEMPT_DYNAMIC Thu Jun 27 21:05:47 UTC 2024', machine='x86_64')  Threads 1\n",
            "Python 3.10.12 (main, Mar 22 2024, 16:50:05) [GCC 11.4.0]\n",
            "numpy 1.25.2  scipy 1.11.4  h5py 3.9.0\n",
            "Date: Sat Jul 20 13:37:30 2024\n",
            "PySCF version 2.6.2\n",
            "PySCF path  /usr/local/lib/python3.10/dist-packages/pyscf/__init__.py\n",
            "CUDA Environment\n",
            "    CuPy 12.2.0\n",
            "    CUDA Path /usr/local/cuda\n",
            "    CUDA Build Version 12020\n",
            "    CUDA Driver Version 12020\n",
            "    CUDA Runtime Version 12010\n",
            "CUDA toolkit\n",
            "    cuSolver (11, 5, 2)\n",
            "    cuBLAS 120103\n",
            "    cuTENSOR None\n",
            "Device info\n",
            "    Device name b'Tesla T4'\n",
            "    Device global memory 14.75 GB\n",
            "GPU4PySCF 0.8.2\n",
            "GPU4PySCF path  /usr/local/lib/python3.10/dist-packages/gpu4pyscf\n",
            "\n",
            "[CONFIG] conf_file None\n",
            "[INPUT] verbose = 4\n",
            "[INPUT] num. atoms = 6\n",
            "[INPUT] num. electrons = 62\n",
            "[INPUT] charge = -1\n",
            "[INPUT] spin (= nelec alpha-beta = 2S) = 0\n",
            "[INPUT] symmetry False subgroup None\n",
            "[INPUT] Mole.unit = Angstrom\n",
            "[INPUT] Symbol           X                Y                Z      unit          X                Y                Z       unit  Magmom\n",
            "[INPUT]  1 C     -1.277168000000   0.545365000000  -0.000063000000 AA   -2.413497735059   1.030590487923  -0.000119052746 Bohr   0.0\n",
            "[INPUT]  2 Br     0.648058000000   0.543727000000   0.000199000000 AA    1.224652132833   1.027495116531   0.000376055499 Bohr   0.0\n",
            "[INPUT]  3 H     -1.652166000000   0.593222000000   1.017641000000 AA   -3.122141252318   1.121027111067   1.923062783129 Bohr   0.0\n",
            "[INPUT]  4 H     -1.652215000000  -0.359651000000  -0.467952000000 AA   -3.122233848898  -0.679641890426  -0.884301119442 Bohr   0.0\n",
            "[INPUT]  5 H     -1.651698000000   1.403205000000  -0.550042000000 AA   -3.121256860492   2.651673146620  -1.039428737008 Bohr   0.0\n",
            "[INPUT]  6 Cl    -4.402752000000   0.572053000000   0.000227000000 AA   -8.319995474381   1.081023498736   0.000428967830 Bohr   0.0\n",
            "\n",
            "nuclear repulsion = 178.288254725544\n",
            "number of shells = 46\n",
            "number of NR pGTOs = 260\n",
            "number of NR cGTOs = 149\n",
            "basis = cc-pvtz\n",
            "ecp = {}\n",
            "CPU time:         9.65\n",
            "\n",
            "\n",
            "******** <class 'gpu4pyscf.dft.rks.RKS'> ********\n",
            "method = RKS\n",
            "initial guess = minao\n",
            "damping factor = 0\n",
            "level_shift factor = 0\n",
            "DIIS = <class 'gpu4pyscf.scf.diis.CDIIS'>\n",
            "diis_start_cycle = 1\n",
            "diis_space = 8\n",
            "diis_damp = 0\n",
            "SCF conv_tol = 1e-09\n",
            "SCF conv_tol_grad = None\n",
            "SCF max_cycles = 50\n",
            "direct_scf = True\n",
            "direct_scf_tol = 1e-13\n",
            "chkfile to save SCF result = /tmp/tmpisdrypdy\n",
            "max_memory 150000 MB (current use 654 MB)\n",
            "Set gradient conv threshold to 3.16228e-05\n",
            "Initial guess from minao.\n",
            "tot grids = 83840\n"
          ]
        },
        {
          "output_type": "stream",
          "name": "stderr",
          "text": [
            "/usr/local/lib/python3.10/dist-packages/pyscf/gto/mole.py:1284: UserWarning: Function mol.dumps drops attribute _ctx_lock because it is not JSON-serializable\n",
            "  warnings.warn(msg)\n"
          ]
        },
        {
          "output_type": "stream",
          "name": "stdout",
          "text": [
            "Calc dispersion correction with DFTD3.\n",
            "Parameters: xc=wb97m, version=d3bj, atm=None\n",
            "init E= -3073.1866088713\n",
            "cycle= 1 E= -3074.42809791536  delta_E= -1.24  |ddm|= 1.51\n",
            "cycle= 2 E= -3074.46687698012  delta_E= -0.0388  |ddm|= 0.87\n",
            "cycle= 3 E= -3074.48963095797  delta_E= -0.0228  |ddm|= 0.272\n",
            "cycle= 4 E= -3074.48979430678  delta_E= -0.000163  |ddm|= 0.0271\n",
            "cycle= 5 E= -3074.4898410766  delta_E= -4.68e-05  |ddm|= 0.0157\n",
            "cycle= 6 E= -3074.48984323343  delta_E= -2.16e-06  |ddm|= 0.00452\n",
            "cycle= 7 E= -3074.48984335456  delta_E= -1.21e-07  |ddm|= 0.00123\n",
            "cycle= 8 E= -3074.48984336617  delta_E= -1.16e-08  |ddm|= 0.000362\n",
            "cycle= 9 E= -3074.48984336687  delta_E= -7.03e-10  |ddm|= 0.0001\n",
            "converged SCF energy = -3074.48984336687\n"
          ]
        },
        {
          "output_type": "execute_result",
          "data": {
            "text/plain": [
              "-83661.12995585232"
            ]
          },
          "metadata": {},
          "execution_count": 18
        }
      ]
    },
    {
      "cell_type": "markdown",
      "source": [
        "> silence mode ( verbose = 0 )"
      ],
      "metadata": {
        "id": "nV475u04L9Gp"
      }
    },
    {
      "cell_type": "markdown",
      "source": [
        "<p><font color=\"#80aaff\">cpu mode</font></p>"
      ],
      "metadata": {
        "id": "MljqJgTAdbjY"
      }
    },
    {
      "cell_type": "code",
      "source": [
        "import time\n",
        "\n",
        "# start time\n",
        "start_time = time.time()\n",
        "\n",
        "# define calculator\n",
        "calc = PySCFCalculator()\n",
        "calc.parameters.verbose = 0\n",
        "calc.parameters.charge = -1\n",
        "calc.parameters.device = 'cpu'\n",
        "# with default parameters\n",
        "\n",
        "# set calculator\n",
        "mol.calc = calc\n",
        "\n",
        "# get single point energy\n",
        "DFT_E = mol.get_potential_energy()\n",
        "\n",
        "# end time\n",
        "end_time = time.time()\n",
        "\n",
        "# run time\n",
        "runtime = end_time - start_time # sec\n",
        "\n",
        "print(f'Energy in eV : {DFT_E}')\n",
        "\n",
        "print(f\"The calculation excuted within {runtime} sec in {mol.calc.parameters.device} mode.\")"
      ],
      "metadata": {
        "id": "JpCBSMQie4VG"
      },
      "execution_count": null,
      "outputs": []
    },
    {
      "cell_type": "markdown",
      "source": [
        "<p><font color=\"#80aaff\">gpu mode</font></p>"
      ],
      "metadata": {
        "id": "rjChvanddsWI"
      }
    },
    {
      "cell_type": "code",
      "source": [
        "# start time\n",
        "start_time = time.time()\n",
        "\n",
        "# define calculator\n",
        "calc = PySCFCalculator()\n",
        "calc.parameters.verbose = 0\n",
        "calc.parameters.charge = -1\n",
        "# with default parameters\n",
        "\n",
        "# set calculator\n",
        "mol.calc = calc\n",
        "\n",
        "# get single point energy\n",
        "DFT_E = mol.get_potential_energy()\n",
        "\n",
        "# end time\n",
        "end_time = time.time()\n",
        "\n",
        "# run time\n",
        "runtime = end_time - start_time # sec\n",
        "\n",
        "print(f'Energy in eV : {DFT_E}')\n",
        "\n",
        "print(f\"The calculation excuted within {runtime} sec in {mol.calc.parameters.device} mode.\")"
      ],
      "metadata": {
        "colab": {
          "base_uri": "https://localhost:8080/"
        },
        "id": "2L9SL1UcLu7R",
        "outputId": "e2fda958-cc68-47ce-dcff-a4f5f2a5e335"
      },
      "execution_count": null,
      "outputs": [
        {
          "output_type": "stream",
          "name": "stderr",
          "text": [
            "/usr/local/lib/python3.10/dist-packages/pyscf/gto/mole.py:1284: UserWarning: Function mol.dumps drops attribute _ctx_lock because it is not JSON-serializable\n",
            "  warnings.warn(msg)\n"
          ]
        },
        {
          "output_type": "stream",
          "name": "stdout",
          "text": [
            "Energy in eV : -83659.62242861325\n",
            "The calculation excuted within 402.69955587387085 sec in gpu mode.\n"
          ]
        }
      ]
    },
    {
      "cell_type": "markdown",
      "source": [
        "<p><font size=5 color=\"pink\">Geometry Optimization</font></p>"
      ],
      "metadata": {
        "id": "Csmr5fgKBLu7"
      }
    },
    {
      "cell_type": "code",
      "source": [
        "from ase.optimize import BFGS\n",
        "\n",
        "opt = BFGS(mol)\n",
        "opt.run()"
      ],
      "metadata": {
        "colab": {
          "base_uri": "https://localhost:8080/"
        },
        "id": "f0QSe74gBLu7",
        "outputId": "4d9d7aa2-9865-4764-c991-a7ac8b82afb4"
      },
      "execution_count": null,
      "outputs": [
        {
          "output_type": "stream",
          "name": "stdout",
          "text": [
            "      Step     Time          Energy          fmax\n",
            "BFGS:    0 14:00:47   -83659.622429        1.188548\n",
            "BFGS:    1 14:14:18   -83659.642457        0.494201\n",
            "BFGS:    2 14:27:16   -83659.649394        0.166387\n",
            "BFGS:    3 14:40:15   -83659.651223        0.100858\n",
            "BFGS:    4 14:53:15   -83659.651705        0.060464\n"
          ]
        }
      ]
    },
    {
      "cell_type": "markdown",
      "source": [
        "> check optimize coordinate"
      ],
      "metadata": {
        "id": "L2N5bx9Bd1Gg"
      }
    },
    {
      "cell_type": "code",
      "source": [
        "from io import StringIO\n",
        "\n",
        "# xyz format string\n",
        "with StringIO() as output:\n",
        "    write(output, mol, format=\"xyz\")\n",
        "    opt_xyz = output.getvalue()\n",
        "    print(f'{GREEN}Optimized coordinate in xyz format :{RESET} \\n\\n{opt_xyz}')\n",
        "\n",
        "# get_coordinate()\n",
        "print(f\"{GREEN}Optimized Coordinate in ndarray :{RESET} \\n\\n{mol.get_positions()}\")"
      ],
      "metadata": {
        "id": "SCToDcnAe9RN"
      },
      "execution_count": null,
      "outputs": []
    },
    {
      "cell_type": "code",
      "source": [
        "mol.calc.parameters.device"
      ],
      "metadata": {
        "id": "7wMk6j-zlp12"
      },
      "execution_count": null,
      "outputs": []
    },
    {
      "cell_type": "markdown",
      "source": [
        "<p><font size=5 color=\"pink\">Vibrational Analysis</font></p>"
      ],
      "metadata": {
        "id": "UbtQEJstBVxP"
      }
    },
    {
      "cell_type": "code",
      "source": [],
      "metadata": {
        "id": "F5AjFWngRi7m"
      },
      "execution_count": null,
      "outputs": []
    },
    {
      "cell_type": "markdown",
      "source": [
        "<p><font size=5 color=\"pink\">Thermo Chemistry</font></p>"
      ],
      "metadata": {
        "id": "k8I3eH6vBL40"
      }
    },
    {
      "cell_type": "code",
      "source": [
        "# from ase.vibrations import Vibrations\n",
        "# from ase.thermochemistry import IdealGasThermo\n",
        "\n",
        "\n",
        "# PE = mol.get_potential_energy()\n",
        "\n",
        "# vib = Vibrations(mol)\n",
        "# vib.run()\n",
        "# vib_e = vib.get_energies()\n",
        "\n",
        "# thermo = IdealGasThermo(vib_energies=vib_e,\n",
        "#                         potentialenergy=PE,\n",
        "#                         atoms=mol,\n",
        "#                         geometry='nonlinear',\n",
        "#                         symmetrynumber=2, spin=0)\n",
        "# G = thermo.get_gibbs_energy(temperature=298.15, pressure=101325.)"
      ],
      "metadata": {
        "id": "yZtPcuZWBVxQ"
      },
      "execution_count": null,
      "outputs": []
    },
    {
      "cell_type": "code",
      "source": [
        "# from ase.thermochemistry import IdealGasThermo\n",
        "# help(IdealGasThermo)"
      ],
      "metadata": {
        "id": "qW6vzD4TRUVW"
      },
      "execution_count": null,
      "outputs": []
    },
    {
      "cell_type": "code",
      "source": [],
      "metadata": {
        "id": "3CrWI2HQBL40"
      },
      "execution_count": null,
      "outputs": []
    },
    {
      "cell_type": "code",
      "source": [
        "#@title <p><font size=5 color=\"pink\">Custom functions</font></p>\n",
        "from ase.io import read, write\n",
        "from ase.optimize import BFGS\n",
        "from io import StringIO\n",
        "\n",
        "def dft_optimize(xyz_string:str, charge:int, mult:int, xc:str):\n",
        "    '''ase interface pyscf dft optimizer\n",
        "    '''\n",
        "    spin = mult - 1\n",
        "\n",
        "    # ase atoms object\n",
        "    mol = read(xyz_string, format='xyz')\n",
        "\n",
        "    # pyscf calculator setting\n",
        "    calc = PySCFCalculator()\n",
        "    calc.parameters.charge = charge\n",
        "    calc.parameters.spin = spin\n",
        "    calc.parameters.xc = xc\n",
        "\n",
        "    mol.calc = calc\n",
        "\n",
        "    # optimize\n",
        "    opt = BFGS(mol)\n",
        "    opt.run()\n",
        "\n",
        "    # print optimized coordinate\n",
        "    with StringIO() as output:\n",
        "      write(output, mol, format=\"xyz\")\n",
        "      opt_xyz = output.getvalue()\n",
        "      print(f'Optimized coordinate : \\n{opt_xyz}')\n",
        "\n",
        "    return mol\n",
        "\n",
        "\n",
        "def dft_energy(xyz_string:str, charge:int, mult:int, xc:str):\n",
        "    '''ase interface pyscf dft energy calculator\n",
        "    '''\n",
        "    spin = mult - 1\n",
        "\n",
        "    # ase atoms object\n",
        "    mol = read(xyz_string, format='xyz')\n",
        "\n",
        "    # pyscf calculator setting\n",
        "    calc = PySCFCalculator()\n",
        "    calc.parameters.charge = charge\n",
        "    calc.parameters.spin = spin\n",
        "    calc.parameters.xc = xc\n",
        "\n",
        "    mol.calc = calc\n",
        "\n",
        "    # print energy\n",
        "    print(f'Energy : {mol.get_potential_energy():.4f} eV\\n')\n",
        "\n",
        "    return mol\n"
      ],
      "metadata": {
        "id": "bqfN-4wZlqeB",
        "cellView": "form"
      },
      "execution_count": null,
      "outputs": []
    },
    {
      "cell_type": "code",
      "source": [
        "#@title <p><font size=5 color=\"#9FE2BF\">Grid Test</font></p>\n",
        "\n",
        "xc_list = ['wB97m-d3bj', 'b97']\n",
        "basis = ['def2-tzvp', 'cc-pvtz']\n",
        "charge_spin = [(0, 0), (-1, 1), (1, 1)]\n",
        "device = ['cpu', 'gpu']\n",
        "nlc_list = [0, 'auto']\n",
        "disp = ['d3bj', 'd4']\n",
        "density_fit = [True, False]\n",
        "auxbasis = ['auto', 'cc-pvdz-jkfit']"
      ],
      "metadata": {
        "id": "cp_zeou3l1Bx"
      },
      "execution_count": null,
      "outputs": []
    },
    {
      "cell_type": "code",
      "source": [
        "#@title <p><font size=5 color=\"#9FE2BF\">Benckmarks</font></p>\n",
        "#@markdown <p><font size=3 color=\"#9FE2BF\">CPU vs. GPU</font></p>\n",
        "code = ''"
      ],
      "metadata": {
        "cellView": "form",
        "id": "IySGHmUJmt0f"
      },
      "execution_count": null,
      "outputs": []
    },
    {
      "cell_type": "code",
      "source": [
        "#@title <p><font size=5 color=\"#9FE2BF\">tmp</font></p>\n"
      ],
      "metadata": {
        "cellView": "form",
        "id": "Kt_wnKXEmy9h"
      },
      "execution_count": null,
      "outputs": []
    }
  ]
}