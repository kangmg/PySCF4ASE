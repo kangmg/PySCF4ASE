{
  "nbformat": 4,
  "nbformat_minor": 0,
  "metadata": {
    "colab": {
      "provenance": [],
      "gpuType": "T4",
      "authorship_tag": "ABX9TyNbtZhukzC2louD5ZWUZvJa",
      "include_colab_link": true
    },
    "kernelspec": {
      "name": "python3",
      "display_name": "Python 3"
    },
    "language_info": {
      "name": "python"
    },
    "accelerator": "GPU"
  },
  "cells": [
    {
      "cell_type": "markdown",
      "metadata": {
        "id": "view-in-github",
        "colab_type": "text"
      },
      "source": [
        "<a href=\"https://colab.research.google.com/github/kangmg/PySCF4ASE/blob/main/test_notebooks/benzene_benchmark.ipynb\" target=\"_parent\"><img src=\"https://colab.research.google.com/assets/colab-badge.svg\" alt=\"Open In Colab\"/></a>"
      ]
    },
    {
      "cell_type": "code",
      "source": [
        "#@title <p><font size=5 color=\"#80aaff\">Write requirements.txt</font></p>\n",
        "#@markdown Write an appropriate requirements.txt for your CUDA version.\n",
        "%%bash\n",
        "\n",
        "# requirements.txt\n",
        "echo 'ase' > requirements.txt\n",
        "echo 'pyscf' >> requirements.txt\n",
        "echo 'torch' >> requirements.txt\n",
        "\n",
        "# check CUDA VERSION\n",
        "NVCC_VERSION=$(nvcc --version | grep -oP 'release \\K[0-9]+\\.[0-9]+' | cut -d'.' -f1)\n",
        "\n",
        "echo -e \"\\033[1;34mYour CUDA Version :\\033[0m $NVCC_VERSION\"\n",
        "\n",
        "# add the appropriate gpu4pysf & cutensor packages for your CUDA version\n",
        "# refer : https://github.com/pyscf/gpu4pyscf/blob/master/README.md\n",
        "if [ \"$NVCC_VERSION\" -eq 11 ]; then\n",
        "  echo \"gpu4pyscf-cuda11x\" >> requirements.txt\n",
        "  echo \"cutensor-cu11\" >> requirements.txt\n",
        "elif [ \"$NVCC_VERSION\" -eq 12 ]; then\n",
        "  echo \"gpu4pyscf-cuda12x\" >> requirements.txt\n",
        "  echo \"cutensor-cu12\" >> requirements.txt\n",
        "else\n",
        "  echo -e \"\\033[1;31mWARNING\\033[0m gpu4pyscf not supported your CUDA Version\"\n",
        "fi\n",
        "\n",
        "echo ''\n",
        "echo -e '\\033[1;32mrequirements.txt\\033[0m'\n",
        "echo -e '\\033[1;32m----------------\\033[0m'\n",
        "cat requirements.txt\n",
        "echo -e '\\033[1;32m----------------\\033[0m'"
      ],
      "metadata": {
        "colab": {
          "base_uri": "https://localhost:8080/"
        },
        "cellView": "form",
        "id": "jUTT11a1FiAb",
        "outputId": "b167ed90-98a8-475b-8be9-f07caca78e7f"
      },
      "execution_count": 1,
      "outputs": [
        {
          "output_type": "stream",
          "name": "stdout",
          "text": [
            "\u001b[1;34mYour CUDA Version :\u001b[0m 12\n",
            "\n",
            "\u001b[1;32mrequirements.txt\u001b[0m\n",
            "\u001b[1;32m----------------\u001b[0m\n",
            "ase\n",
            "pyscf\n",
            "torch\n",
            "gpu4pyscf-cuda12x\n",
            "cutensor-cu12\n",
            "\u001b[1;32m----------------\u001b[0m\n"
          ]
        }
      ]
    },
    {
      "cell_type": "code",
      "source": [
        "#@title <p><font size=5 color=\"#80aaff\">Setup</font></p>\n",
        "\n",
        "# install packages\n",
        "%pip install -q -r requirements.txt\n",
        "\n",
        "# colab gpu error\n",
        "import locale\n",
        "locale.getpreferredencoding = lambda: \"UTF-8\""
      ],
      "metadata": {
        "colab": {
          "base_uri": "https://localhost:8080/"
        },
        "id": "b5iWvcVXtnRj",
        "outputId": "726304e3-e90f-44f4-d77e-d44f85e6dbf6",
        "cellView": "form"
      },
      "execution_count": 2,
      "outputs": [
        {
          "output_type": "stream",
          "name": "stdout",
          "text": [
            "\u001b[2K     \u001b[90m━━━━━━━━━━━━━━━━━━━━━━━━━━━━━━━━━━━━━━━━\u001b[0m \u001b[32m2.9/2.9 MB\u001b[0m \u001b[31m10.6 MB/s\u001b[0m eta \u001b[36m0:00:00\u001b[0m\n",
            "\u001b[2K     \u001b[90m━━━━━━━━━━━━━━━━━━━━━━━━━━━━━━━━━━━━━━━━\u001b[0m \u001b[32m48.6/48.6 MB\u001b[0m \u001b[31m8.9 MB/s\u001b[0m eta \u001b[36m0:00:00\u001b[0m\n",
            "\u001b[2K     \u001b[90m━━━━━━━━━━━━━━━━━━━━━━━━━━━━━━━━━━━━━━━━\u001b[0m \u001b[32m124.5/124.5 MB\u001b[0m \u001b[31m6.2 MB/s\u001b[0m eta \u001b[36m0:00:00\u001b[0m\n",
            "\u001b[2K     \u001b[90m━━━━━━━━━━━━━━━━━━━━━━━━━━━━━━━━━━━━━━━━\u001b[0m \u001b[32m156.9/156.9 MB\u001b[0m \u001b[31m2.7 MB/s\u001b[0m eta \u001b[36m0:00:00\u001b[0m\n",
            "\u001b[2K     \u001b[90m━━━━━━━━━━━━━━━━━━━━━━━━━━━━━━━━━━━━━━━━\u001b[0m \u001b[32m21.3/21.3 MB\u001b[0m \u001b[31m46.8 MB/s\u001b[0m eta \u001b[36m0:00:00\u001b[0m\n",
            "\u001b[2K     \u001b[90m━━━━━━━━━━━━━━━━━━━━━━━━━━━━━━━━━━━━━━━━\u001b[0m \u001b[32m12.1/12.1 MB\u001b[0m \u001b[31m68.3 MB/s\u001b[0m eta \u001b[36m0:00:00\u001b[0m\n",
            "\u001b[2K     \u001b[90m━━━━━━━━━━━━━━━━━━━━━━━━━━━━━━━━━━━━━━━━\u001b[0m \u001b[32m385.0/385.0 kB\u001b[0m \u001b[31m32.4 MB/s\u001b[0m eta \u001b[36m0:00:00\u001b[0m\n",
            "\u001b[?25h  Preparing metadata (setup.py) ... \u001b[?25l\u001b[?25hdone\n",
            "\u001b[2K     \u001b[90m━━━━━━━━━━━━━━━━━━━━━━━━━━━━━━━━━━━━━━━━\u001b[0m \u001b[32m165.3/165.3 MB\u001b[0m \u001b[31m2.9 MB/s\u001b[0m eta \u001b[36m0:00:00\u001b[0m\n",
            "\u001b[?25h  Building wheel for geometric (setup.py) ... \u001b[?25l\u001b[?25hdone\n"
          ]
        }
      ]
    },
    {
      "cell_type": "code",
      "execution_count": 3,
      "metadata": {
        "id": "pLOSYrlukxr0"
      },
      "outputs": [],
      "source": [
        "#@title <p><font size=5 color=\"#80aaff\">PySCF Calculator for ASE interface</font></p>\n",
        "\n",
        "\n",
        "'''\n",
        "\n",
        "===================================================\n",
        "DFT-D4 DFT supported functionals\n",
        "---------------------------------------------------\n",
        "\n",
        "Use D4 if the specified functional is avialable.\n",
        "Currently, only a subset of functionals in DFT-D4\n",
        "is supported. It includes :\n",
        "\n",
        "B3LYP, B97, B1LYP, PBE0, PW6B95, M06L, M06, WB97,\n",
        "WB97X, CAMB3LYP, PBE02, PBE0DH, MPW1K, MPWB1K,\n",
        "B1B95, B1PW91, B2GPPLYP, B2PLYP, B3P86, B3PW91,\n",
        "O3LYP, REVPBE, REVPBE0, REVTPSS, REVTPSSH, SCAN,\n",
        "TPSS0, TPSSH, X3LYP, TPSS, BP86, BLYP, BPBE,\n",
        "MPW1PW91, MPW1LYP, PBE, RPBE, and PW91.\n",
        "\n",
        "\n",
        "Ref. https://manual.q-chem.com/6.0/subsec_DFT-D.html\n",
        "\n",
        "===================================================\n",
        "\n",
        "\n",
        "\n",
        "[Units]\n",
        "=======  ===========  =============\n",
        "Program  Quantities   Unit\n",
        "-------  -----------  -------------\n",
        "PySCF    Energy       Ha\n",
        "PySCF    Force        Ha/Bohr\n",
        "ASE      Energy       eV\n",
        "ASE      Force        eV/Ang\n",
        "=======  ===========  =============\n",
        "\n",
        "\n",
        "\n",
        "===================================================\n",
        "pyscf xc, disp, nlc 사용 관련 참고\n",
        "---------------------------------------------------\n",
        "\n",
        "xc에 disp correction(e.g. d3bj d4 등을 붙여주면 disp correciton이 자동으로 수행됨)\n",
        "nlc랑 disp랑 둘 다 계산되는 걸 주의해야 함\n",
        "\n",
        "\n",
        "https://github.com/pyscf/pyscf/blob/master/examples/dft/16-dft_d3.py\n",
        "\n",
        "===================================================\n",
        "'''\n",
        "\n",
        "import numpy as np\n",
        "from ase.calculators.calculator import Calculator, all_changes\n",
        "from ase.units import Ha, Bohr\n",
        "import torch\n",
        "import pyscf\n",
        "\n",
        "class PySCFCalculator(Calculator):\n",
        "    '''\n",
        "    Description\n",
        "    ===========\n",
        "    PySCF ASE Calculator for dft caculations\n",
        "    '''\n",
        "\n",
        "    '''\n",
        "    ===============\n",
        "    Units\n",
        "    ---------------\n",
        "    Energy  eV\n",
        "    Force   eV/Ang\n",
        "    ===============\n",
        "    '''\n",
        "\n",
        "\n",
        "    implemented_properties = ['energy', 'forces']\n",
        "\n",
        "    default_parameters = {\n",
        "        'charge': 0, # system charge\n",
        "        'spin': 0, # (= nelec alpha-beta = 2S)\n",
        "        'symmetry': False, # point group symmetry : e.g. Cs or C2v Ref. https://github.com/pyscf/pyscf/blob/master/examples/gto/13-symmetry.py\n",
        "        'basis': 'def2-tzvp', # basis set\n",
        "        'xc': 'wb97m-d3bj', # xc functional\n",
        "        'density_fit': True, # resolution of identity approximation\n",
        "        'auxbasis': 'auto', # basis for density_fit : e.g. 'cc-pvdz-jkfit' or 'auto'(pyscf sets automatically)\n",
        "        'device': 'auto', # gpu, cpu\n",
        "        'disp': None, # dispersion correction : d3bj d4 d3 etc.\n",
        "        'nlc': 'auto', # non-local correlation. :  0, 'auto', nlc-functional\n",
        "        # [Note]\n",
        "        # Set nlc to 0 when D3 and D4 dispersion corrections are applied\n",
        "        # https://github.com/pyscf/pyscf/blob/master/examples/dft/15-nlc_functionals.py\n",
        "        # https://github.com/pyscf/pyscf/blob/master/examples/dft/16-dft_d3.py\n",
        "        'max_cycle': 50, # max number of iterations\n",
        "        'conv_tol': 1e-9, # converge threshold\n",
        "        'verbose' : 4, # output log level\n",
        "        'max_memory': 150000, # MB unit\n",
        "        'chkfile': None, # chkpoint file contains MOs, orbital energies etc. : (str) e.g. './checkpoint/pyscf.chk'\n",
        "        'output': None, # log file : (str) e.g. './output/pyscf_output.log'\n",
        "        # TODO : conv_tol_grad, init_guess\n",
        "    }\n",
        "\n",
        "    def _set_device(self):\n",
        "        # set device\n",
        "        if self.parameters.device == 'auto':\n",
        "            self.parameters.device = 'gpu' if torch.cuda.is_available() else 'cpu'\n",
        "        # import modules : dft\n",
        "        if self.parameters.device == 'cpu':\n",
        "            from pyscf import dft\n",
        "            self.dft = dft\n",
        "        elif self.parameters.device == 'gpu':\n",
        "            from gpu4pyscf import dft\n",
        "            self.dft = dft\n",
        "        else:\n",
        "            raise ValueError(f\"Invalid device: {self.parameters.device}, 'gpu' or 'cpu' supported.\")\n",
        "\n",
        "    def __init__(self, restart=None, label='PySCF', **kwargs):\n",
        "        super().__init__(restart=restart, label=label, **kwargs)\n",
        "        self.mol = None\n",
        "        self.mf = None\n",
        "\n",
        "\n",
        "    def calculate(self, atoms=None, properties=['energy'], system_changes=all_changes):\n",
        "        super().calculate(atoms, properties, system_changes)\n",
        "\n",
        "        self._set_device()\n",
        "\n",
        "        if self.atoms is None:\n",
        "            raise ValueError(\"atoms object is not set.\")\n",
        "\n",
        "        if system_changes:\n",
        "            self.results.clear()\n",
        "            self.mol = None\n",
        "            self.mf = None\n",
        "\n",
        "        if self.mol is None:\n",
        "            self._generate_molecule()\n",
        "\n",
        "        if self.mf is None:\n",
        "            self._run_dft()\n",
        "\n",
        "        if 'energy' in properties and 'energy' not in self.results:\n",
        "            # pyscf energy unit : Hatree\n",
        "            # ase energy unit : eV\n",
        "            self.results['energy'] = self.mf.e_tot * Ha\n",
        "\n",
        "        if 'forces' in properties and 'forces' not in self.results:\n",
        "            # pyscf force unit : Ha/Bohr\n",
        "            # ase force unit : eV/Ang\n",
        "            self.results['forces'] = self._calculate_forces() * Ha / Bohr\n",
        "\n",
        "    def _generate_molecule(self):\n",
        "        positions = self.atoms.get_positions()\n",
        "        symbols = self.atoms.get_chemical_symbols()\n",
        "        atom_str = \"; \".join([f\"{s} {p[0]} {p[1]} {p[2]}\" for s, p in zip(symbols, positions)])\n",
        "        self.mol = pyscf.M(atom=atom_str,\n",
        "                         basis=self.parameters.basis,\n",
        "                         charge=self.parameters.charge,\n",
        "                         spin=self.parameters.spin,\n",
        "                         symmetry=self.parameters.symmetry,\n",
        "                         verbose = self.parameters.verbose,\n",
        "                         max_memory=self.parameters.max_memory,\n",
        "                         output=self.parameters.output,\n",
        "                         unit='Angstrom')\n",
        "\n",
        "\n",
        "    def _run_dft(self):\n",
        "        self.mf = self.dft.RKS(self.mol)\n",
        "        self.mf.xc = self.parameters.xc\n",
        "        self.mf.max_cycle = self.parameters.max_cycle\n",
        "        self.mf.conv_tol = self.parameters.conv_tol\n",
        "        self.mf.disp = self.parameters.disp\n",
        "\n",
        "        # checkpoint file : default is /tmp\n",
        "        if self.parameters.chkfile:\n",
        "            self.mf.chkfile = self.parameters.chkfile\n",
        "\n",
        "        # non-local correlation\n",
        "        if self.parameters.nlc != 'auto':\n",
        "            self.mf.nlc = self.parameters.nlc\n",
        "\n",
        "        # density_fit ( or resolution of identity (RI) approximation)\n",
        "        if self.parameters.density_fit:\n",
        "            if self.parameters.auxbasis == 'auto':\n",
        "                self.mf.density_fit()\n",
        "            elif self.parameters.auxbasis != 'auto':\n",
        "                self.mf.density_fit(auxbasis=self.parameters.auxbasis)\n",
        "\n",
        "        self.mf.kernel()\n",
        "\n",
        "    def _calculate_forces(self):\n",
        "        return -self.mf.nuc_grad_method().kernel() # unit : Ha/Bohr"
      ]
    },
    {
      "cell_type": "code",
      "source": [
        "%%writefile benzene.xyz\n",
        "12\n",
        "\n",
        "H      1.2194     -0.1652      2.1600\n",
        "C      0.6825     -0.0924      1.2087\n",
        "C     -0.7075     -0.0352      1.1973\n",
        "H     -1.2644     -0.0630      2.1393\n",
        "C     -1.3898      0.0572     -0.0114\n",
        "H     -2.4836      0.1021     -0.0204\n",
        "C     -0.6824      0.0925     -1.2088\n",
        "H     -1.2194      0.1652     -2.1599\n",
        "C      0.7075      0.0352     -1.1973\n",
        "H      1.2641      0.0628     -2.1395\n",
        "C      1.3899     -0.0572      0.0114\n",
        "H      2.4836     -0.1022      0.0205"
      ],
      "metadata": {
        "colab": {
          "base_uri": "https://localhost:8080/"
        },
        "id": "xsfFHkAlrrgp",
        "outputId": "7cdd2edb-1bd4-4848-a94e-f290fc6bb1d3"
      },
      "execution_count": 4,
      "outputs": [
        {
          "output_type": "stream",
          "name": "stdout",
          "text": [
            "Writing benzene.xyz\n"
          ]
        }
      ]
    },
    {
      "cell_type": "code",
      "source": [
        "from ase.io import read\n",
        "from ase.optimize import BFGS\n",
        "\n",
        "mol4gpu = read('benzene.xyz', format='xyz')\n",
        "mol4cpu = read('benzene.xyz', format='xyz')"
      ],
      "metadata": {
        "id": "2M-_Z-TsrVsK"
      },
      "execution_count": 14,
      "outputs": []
    },
    {
      "cell_type": "code",
      "source": [
        "#@title check molecule\n",
        "\n",
        "from ase.io import write\n",
        "import matplotlib.pyplot as plt\n",
        "import matplotlib.image as mpimg\n",
        "\n",
        "# save image\n",
        "write(\"mol.png\", read('benzene.xyz', format='xyz'), rotation=\"-130x,0y,0z\")\n",
        "img = mpimg.imread(\"mol.png\")\n",
        "\n",
        "# plot image\n",
        "plt.figure(figsize=(4, 2))\n",
        "plt.imshow(img)\n",
        "plt.axis('off')\n",
        "plt.show()"
      ],
      "metadata": {
        "colab": {
          "base_uri": "https://localhost:8080/",
          "height": 191
        },
        "cellView": "form",
        "id": "mnaJECuwr8LL",
        "outputId": "f4d1f714-f11c-4f89-ca1f-f1b47ecc2c60"
      },
      "execution_count": 15,
      "outputs": [
        {
          "output_type": "display_data",
          "data": {
            "text/plain": [
              "<Figure size 400x200 with 1 Axes>"
            ],
            "image/png": "[encoded data removed]"
          },
          "metadata": {}
        }
      ]
    },
    {
      "cell_type": "markdown",
      "source": [
        "<p><font size=5 color=\"#80aaff\">Benzene 구조 최적화 벤치마크</font></p>\n"
      ],
      "metadata": {
        "id": "Vdh6XxXhU3iM"
      }
    },
    {
      "cell_type": "markdown",
      "source": [
        "> CPU 계산"
      ],
      "metadata": {
        "id": "_USEI-McUwgD"
      }
    },
    {
      "cell_type": "code",
      "source": [
        "%%time\n",
        "\n",
        "gpu_calc = PySCFCalculator()\n",
        "\n",
        "gpu_calc.parameters.device = 'gpu'\n",
        "gpu_calc.parameters.verbose = 1\n",
        "\n",
        "display(gpu_calc.parameters)\n",
        "\n",
        "mol4gpu.calc = gpu_calc\n",
        "\n",
        "gpu_opt = BFGS(mol4gpu)\n",
        "gpu_opt.run(fmax=0.01)"
      ],
      "metadata": {
        "colab": {
          "base_uri": "https://localhost:8080/",
          "height": 531
        },
        "id": "rt6A5doCq2fF",
        "outputId": "e24fb2e5-3458-4024-a9b0-c0d582abc996"
      },
      "execution_count": 18,
      "outputs": [
        {
          "output_type": "display_data",
          "data": {
            "text/plain": [
              "{'charge': 0,\n",
              " 'spin': 0,\n",
              " 'symmetry': False,\n",
              " 'basis': 'def2-tzvp',\n",
              " 'xc': 'wb97m-d3bj',\n",
              " 'density_fit': True,\n",
              " 'auxbasis': 'auto',\n",
              " 'device': 'gpu',\n",
              " 'disp': None,\n",
              " 'nlc': 'auto',\n",
              " 'max_cycle': 50,\n",
              " 'conv_tol': 1e-09,\n",
              " 'verbose': 1,\n",
              " 'max_memory': 150000,\n",
              " 'chkfile': None,\n",
              " 'output': None}"
            ]
          },
          "metadata": {}
        },
        {
          "output_type": "stream",
          "name": "stderr",
          "text": [
            "/usr/local/lib/python3.10/dist-packages/gpu4pyscf/lib/cutensor.py:138: UserWarning: using cupy as the tensor contraction engine.\n",
            "  warnings.warn(f'using {contract_engine} as the tensor contraction engine.')\n",
            "/usr/local/lib/python3.10/dist-packages/pyscf/gto/mole.py:1284: UserWarning: Function mol.dumps drops attribute _ctx_lock because it is not JSON-serializable\n",
            "  warnings.warn(msg)\n"
          ]
        },
        {
          "output_type": "stream",
          "name": "stdout",
          "text": [
            "      Step     Time          Energy          fmax\n",
            "BFGS:    0 15:15:39    -6324.002977        0.454796\n",
            "BFGS:    1 15:16:44    -6324.014062        0.257673\n",
            "BFGS:    2 15:17:49    -6324.019023        0.155465\n",
            "BFGS:    3 15:18:54    -6324.023062        0.007939\n",
            "CPU times: user 4min 39s, sys: 3.73 s, total: 4min 43s\n",
            "Wall time: 4min 50s\n"
          ]
        },
        {
          "output_type": "execute_result",
          "data": {
            "text/plain": [
              "True"
            ]
          },
          "metadata": {},
          "execution_count": 18
        }
      ]
    },
    {
      "cell_type": "markdown",
      "source": [
        "> GPU 계산"
      ],
      "metadata": {
        "id": "9uertaXjUy4R"
      }
    },
    {
      "cell_type": "code",
      "source": [
        "%%time\n",
        "\n",
        "cpu_calc = PySCFCalculator()\n",
        "\n",
        "cpu_calc.parameters.device = 'cpu'\n",
        "cpu_calc.parameters.verbose = 1\n",
        "\n",
        "display(cpu_calc.parameters)\n",
        "\n",
        "mol4cpu.calc = cpu_calc\n",
        "\n",
        "cpu_opt = BFGS(mol4cpu)\n",
        "cpu_opt.run(fmax=0.01)"
      ],
      "metadata": {
        "colab": {
          "base_uri": "https://localhost:8080/",
          "height": 458
        },
        "id": "c2w8_4U5rUE7",
        "outputId": "10ade8a3-3cd2-455d-980f-96a0a4c891e6"
      },
      "execution_count": 19,
      "outputs": [
        {
          "output_type": "display_data",
          "data": {
            "text/plain": [
              "{'charge': 0,\n",
              " 'spin': 0,\n",
              " 'symmetry': False,\n",
              " 'basis': 'def2-tzvp',\n",
              " 'xc': 'wb97m-d3bj',\n",
              " 'density_fit': True,\n",
              " 'auxbasis': 'auto',\n",
              " 'device': 'cpu',\n",
              " 'disp': None,\n",
              " 'nlc': 'auto',\n",
              " 'max_cycle': 50,\n",
              " 'conv_tol': 1e-09,\n",
              " 'verbose': 1,\n",
              " 'max_memory': 150000,\n",
              " 'chkfile': None,\n",
              " 'output': None}"
            ]
          },
          "metadata": {}
        },
        {
          "output_type": "stream",
          "name": "stdout",
          "text": [
            "      Step     Time          Energy          fmax\n",
            "BFGS:    0 15:42:43    -6324.002977        0.454894\n",
            "BFGS:    1 15:52:08    -6324.014061        0.257660\n",
            "BFGS:    2 16:01:31    -6324.019023        0.155463\n",
            "BFGS:    3 16:10:53    -6324.023062        0.007945\n",
            "CPU times: user 37min 9s, sys: 35.1 s, total: 37min 44s\n",
            "Wall time: 37min 38s\n"
          ]
        },
        {
          "output_type": "execute_result",
          "data": {
            "text/plain": [
              "True"
            ]
          },
          "metadata": {},
          "execution_count": 19
        }
      ]
    }
  ]
}